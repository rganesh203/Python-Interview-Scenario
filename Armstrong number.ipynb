{
 "cells": [
  {
   "cell_type": "markdown",
   "metadata": {
    "application/vnd.databricks.v1+cell": {
     "cellMetadata": {},
     "inputWidgets": {},
     "nuid": "2e54c2d5-0908-4aa2-b516-adf2d702b02f",
     "showTitle": false,
     "tableResultSettingsMap": {},
     "title": ""
    }
   },
   "source": [
    "\n",
    "An Armstrong number is a number that is equal to the sum of its digits raised to the power of the number of digits. For example:\n",
    "\n",
    "153 =1^3+5^3+3^3  (Armstrong number)\n",
    "Here are different ways to check if a number is an Armstrong number in Python"
   ]
  },
  {
   "cell_type": "code",
   "execution_count": 0,
   "metadata": {
    "application/vnd.databricks.v1+cell": {
     "cellMetadata": {
      "byteLimit": 2048000,
      "rowLimit": 10000
     },
     "inputWidgets": {},
     "nuid": "d2415232-d993-42f1-8953-5a74dde93f88",
     "showTitle": false,
     "tableResultSettingsMap": {},
     "title": ""
    }
   },
   "outputs": [
    {
     "output_type": "display_data",
     "data": {
      "text/plain": [
       "Enter a number:  153"
      ]
     },
     "metadata": {},
     "output_type": "display_data"
    },
    {
     "output_type": "stream",
     "name": "stdout",
     "output_type": "stream",
     "text": [
      "153 is an Armstrong number.\n"
     ]
    }
   ],
   "source": [
    "def is_armstrong(n):\n",
    "    num_str = str(n)\n",
    "    num_digits = len(num_str)\n",
    "    total = 0\n",
    "    for digit in num_str:\n",
    "        total += int(digit) ** num_digits\n",
    "    return total == n\n",
    "\n",
    "# Example usage:\n",
    "num = int(input(\"Enter a number: \"))\n",
    "if is_armstrong(num):\n",
    "    print(f\"{num} is an Armstrong number.\")\n",
    "else:\n",
    "    print(f\"{num} is not an Armstrong number.\")\n"
   ]
  },
  {
   "cell_type": "code",
   "execution_count": 0,
   "metadata": {
    "application/vnd.databricks.v1+cell": {
     "cellMetadata": {},
     "inputWidgets": {},
     "nuid": "009aa837-3b69-4997-a9a1-cec866af0d2d",
     "showTitle": false,
     "tableResultSettingsMap": {},
     "title": ""
    }
   },
   "outputs": [],
   "source": [
    "def is_armstrong(n):\n",
    "    num_str = str(n)\n",
    "    return n == sum(int(digit) ** len(num_str) for digit in num_str)\n",
    "\n",
    "# Example usage:\n",
    "num = int(input(\"Enter a number: \"))\n",
    "print(f\"{num} {'is' if is_armstrong(num) else 'is not'} an Armstrong number.\")\n"
   ]
  },
  {
   "cell_type": "code",
   "execution_count": 0,
   "metadata": {
    "application/vnd.databricks.v1+cell": {
     "cellMetadata": {},
     "inputWidgets": {},
     "nuid": "b97b8296-2810-4467-ba10-40ec524d1168",
     "showTitle": false,
     "tableResultSettingsMap": {},
     "title": ""
    }
   },
   "outputs": [],
   "source": [
    "def is_armstrong(n):\n",
    "    num_str = str(n)\n",
    "    num_digits = len(num_str)\n",
    "    return n == sum(map(lambda x: int(x) ** num_digits, num_str))\n",
    "\n",
    "# Example usage:\n",
    "num = int(input(\"Enter a number: \"))\n",
    "if is_armstrong(num):\n",
    "    print(f\"{num} is an Armstrong number.\")\n",
    "else:\n",
    "    print(f\"{num} is not an Armstrong number.\")"
   ]
  },
  {
   "cell_type": "code",
   "execution_count": 0,
   "metadata": {
    "application/vnd.databricks.v1+cell": {
     "cellMetadata": {},
     "inputWidgets": {},
     "nuid": "a3068659-14d9-4d57-a36c-7a9bcc7a6a62",
     "showTitle": false,
     "tableResultSettingsMap": {},
     "title": ""
    }
   },
   "outputs": [],
   "source": [
    "def find_armstrong_in_range(start, end):\n",
    "    armstrong_numbers = []\n",
    "    for n in range(start, end + 1):\n",
    "        if is_armstrong(n):\n",
    "            armstrong_numbers.append(n)\n",
    "    return armstrong_numbers\n",
    "\n",
    "# Example usage:\n",
    "start = int(input(\"Enter start of range: \"))\n",
    "end = int(input(\"Enter end of range: \"))\n",
    "print(f\"Armstrong numbers between {start} and {end}: {find_armstrong_in_range(start, end)}\")"
   ]
  },
  {
   "cell_type": "code",
   "execution_count": 0,
   "metadata": {
    "application/vnd.databricks.v1+cell": {
     "cellMetadata": {
      "byteLimit": 2048000,
      "rowLimit": 10000
     },
     "inputWidgets": {},
     "nuid": "3dcaa29b-9e8c-4c83-8b64-3db4904f01ff",
     "showTitle": false,
     "tableResultSettingsMap": {},
     "title": ""
    }
   },
   "outputs": [
    {
     "output_type": "stream",
     "name": "stdout",
     "output_type": "stream",
     "text": [
      "True\nTrue\nFalse\n"
     ]
    }
   ],
   "source": [
    "def is_armstrong(n):\n",
    "    return n == sum(int(digit) ** len(str(n)) for digit in str(n))\n",
    "\n",
    "# Example usage:\n",
    "print(is_armstrong(153))  # True\n",
    "print(is_armstrong(9474))  # True\n",
    "print(is_armstrong(123))  # False"
   ]
  }
 ],
 "metadata": {
  "application/vnd.databricks.v1+notebook": {
   "dashboards": [],
   "environmentMetadata": null,
   "language": "python",
   "notebookMetadata": {
    "pythonIndentUnit": 4
   },
   "notebookName": "Armstrong number",
   "widgets": {}
  }
 },
 "nbformat": 4,
 "nbformat_minor": 0
}

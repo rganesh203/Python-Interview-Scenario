{
 "cells": [
  {
   "cell_type": "code",
   "execution_count": 0,
   "metadata": {
    "application/vnd.databricks.v1+cell": {
     "cellMetadata": {
      "byteLimit": 2048000,
      "rowLimit": 10000
     },
     "inputWidgets": {},
     "nuid": "b790e490-7376-45a6-a1d9-7943f1b113c3",
     "showTitle": false,
     "tableResultSettingsMap": {},
     "title": ""
    }
   },
   "outputs": [
    {
     "output_type": "stream",
     "name": "stdout",
     "output_type": "stream",
     "text": [
      "Original array: [1, 2, 3, 4, 5]\nLeft rotated by 2: [3, 4, 5, 1, 2]\n"
     ]
    }
   ],
   "source": [
    "def left_rotate(arr, k):\n",
    "    k %= len(arr)  # Handle cases where k > len(arr)\n",
    "    return arr[k:] + arr[:k]\n",
    "\n",
    "# Example usage:\n",
    "arr = [1, 2, 3, 4, 5]\n",
    "k = 2\n",
    "print(f\"Original array: {arr}\")\n",
    "print(f\"Left rotated by {k}: {left_rotate(arr, k)}\")\n"
   ]
  },
  {
   "cell_type": "code",
   "execution_count": 0,
   "metadata": {
    "application/vnd.databricks.v1+cell": {
     "cellMetadata": {
      "byteLimit": 2048000,
      "rowLimit": 10000
     },
     "inputWidgets": {},
     "nuid": "90d67caf-81e6-43cc-8fae-1c01f63d3af7",
     "showTitle": false,
     "tableResultSettingsMap": {},
     "title": ""
    }
   },
   "outputs": [
    {
     "output_type": "stream",
     "name": "stdout",
     "output_type": "stream",
     "text": [
      "Original array: [1, 2, 3, 4, 5]\nRight rotated by 2: [4, 5, 1, 2, 3]\n"
     ]
    }
   ],
   "source": [
    "def right_rotate(arr, k):\n",
    "    k %= len(arr)  # Handle cases where k > len(arr)\n",
    "    return arr[-k:] + arr[:-k]\n",
    "\n",
    "# Example usage:\n",
    "arr = [1, 2, 3, 4, 5]\n",
    "k = 2\n",
    "print(f\"Original array: {arr}\")\n",
    "print(f\"Right rotated by {k}: {right_rotate(arr, k)}\")\n"
   ]
  },
  {
   "cell_type": "code",
   "execution_count": 0,
   "metadata": {
    "application/vnd.databricks.v1+cell": {
     "cellMetadata": {
      "byteLimit": 2048000,
      "rowLimit": 10000
     },
     "inputWidgets": {},
     "nuid": "46975db5-5f53-46a5-a698-ec9113c196c1",
     "showTitle": false,
     "tableResultSettingsMap": {},
     "title": ""
    }
   },
   "outputs": [
    {
     "output_type": "stream",
     "name": "stdout",
     "output_type": "stream",
     "text": [
      "Original array: [1, 2, 3, 4, 5]\nLeft rotated by 2: [3, 4, 5, 1, 2]\n"
     ]
    }
   ],
   "source": [
    "def left_rotate_loop(arr, k):\n",
    "    k %= len(arr)\n",
    "    for _ in range(k):\n",
    "        first = arr.pop(0)\n",
    "        arr.append(first)\n",
    "    return arr\n",
    "\n",
    "# Example usage:\n",
    "arr = [1, 2, 3, 4, 5]\n",
    "k = 2\n",
    "print(f\"Original array: {arr}\")\n",
    "print(f\"Left rotated by {k}: {left_rotate_loop(arr, k)}\")\n"
   ]
  },
  {
   "cell_type": "code",
   "execution_count": 0,
   "metadata": {
    "application/vnd.databricks.v1+cell": {
     "cellMetadata": {
      "byteLimit": 2048000,
      "rowLimit": 10000
     },
     "inputWidgets": {},
     "nuid": "b6073899-124a-4cd2-bcf2-3d7ca413662d",
     "showTitle": false,
     "tableResultSettingsMap": {},
     "title": ""
    }
   },
   "outputs": [
    {
     "output_type": "stream",
     "name": "stdout",
     "output_type": "stream",
     "text": [
      "Original array: [1, 2, 3, 4, 5]\nRight rotated by 2: [4, 5, 1, 2, 3]\n"
     ]
    }
   ],
   "source": [
    "def right_rotate_loop(arr, k):\n",
    "    k %= len(arr)\n",
    "    for _ in range(k):\n",
    "        last = arr.pop()\n",
    "        arr.insert(0, last)\n",
    "    return arr\n",
    "\n",
    "# Example usage:\n",
    "arr = [1, 2, 3, 4, 5]\n",
    "k = 2\n",
    "print(f\"Original array: {arr}\")\n",
    "print(f\"Right rotated by {k}: {right_rotate_loop(arr, k)}\")"
   ]
  },
  {
   "cell_type": "code",
   "execution_count": 0,
   "metadata": {
    "application/vnd.databricks.v1+cell": {
     "cellMetadata": {
      "byteLimit": 2048000,
      "rowLimit": 10000
     },
     "inputWidgets": {},
     "nuid": "6ab86f4b-5cf5-4cbb-a56c-63ab1ce239e2",
     "showTitle": false,
     "tableResultSettingsMap": {},
     "title": ""
    }
   },
   "outputs": [
    {
     "output_type": "stream",
     "name": "stdout",
     "output_type": "stream",
     "text": [
      "Left rotated by 2: [3, 4, 5, 1, 2]\nRight rotated by 2: [4, 5, 1, 2, 3]\n"
     ]
    }
   ],
   "source": [
    "from collections import deque\n",
    "\n",
    "def left_rotate_deque(arr, k):\n",
    "    d = deque(arr)\n",
    "    d.rotate(-k)  # Negative for left rotation\n",
    "    return list(d)\n",
    "\n",
    "def right_rotate_deque(arr, k):\n",
    "    d = deque(arr)\n",
    "    d.rotate(k)  # Positive for right rotation\n",
    "    return list(d)\n",
    "\n",
    "# Example usage:\n",
    "arr = [1, 2, 3, 4, 5]\n",
    "k = 2\n",
    "print(f\"Left rotated by {k}: {left_rotate_deque(arr, k)}\")\n",
    "print(f\"Right rotated by {k}: {right_rotate_deque(arr, k)}\")\n"
   ]
  },
  {
   "cell_type": "code",
   "execution_count": 0,
   "metadata": {
    "application/vnd.databricks.v1+cell": {
     "cellMetadata": {
      "byteLimit": 2048000,
      "rowLimit": 10000
     },
     "inputWidgets": {},
     "nuid": "346fd114-41f6-4451-955a-26cf993e1417",
     "showTitle": false,
     "tableResultSettingsMap": {},
     "title": ""
    }
   },
   "outputs": [
    {
     "output_type": "display_data",
     "data": {
      "text/plain": [
       "Enter array elements separated by spaces:  1 2 3 4 "
      ]
     },
     "metadata": {},
     "output_type": "display_data"
    },
    {
     "output_type": "display_data",
     "data": {
      "text/plain": [
       "Enter number of rotations:  "
      ]
     },
     "metadata": {},
     "output_type": "display_data"
    }
   ],
   "source": [
    "def rotate_array(arr, k, direction):\n",
    "    if direction.lower() == \"left\":\n",
    "        return left_rotate(arr, k)\n",
    "    elif direction.lower() == \"right\":\n",
    "        return right_rotate(arr, k)\n",
    "    else:\n",
    "        return \"Invalid direction\"\n",
    "\n",
    "# Taking user input\n",
    "arr = list(map(int, input(\"Enter array elements separated by spaces: \").split()))\n",
    "k = int(input(\"Enter number of rotations: \"))\n",
    "direction = input(\"Enter direction (left/right): \")\n",
    "\n",
    "print(f\"Rotated array: {rotate_array(arr, k, direction)}\")"
   ]
  }
 ],
 "metadata": {
  "application/vnd.databricks.v1+notebook": {
   "dashboards": [],
   "environmentMetadata": null,
   "language": "python",
   "notebookMetadata": {
    "pythonIndentUnit": 4
   },
   "notebookName": "Array rotation",
   "widgets": {}
  }
 },
 "nbformat": 4,
 "nbformat_minor": 0
}

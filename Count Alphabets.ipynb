{
 "cells": [
  {
   "cell_type": "code",
   "execution_count": 0,
   "metadata": {
    "application/vnd.databricks.v1+cell": {
     "cellMetadata": {
      "byteLimit": 2048000,
      "rowLimit": 10000
     },
     "inputWidgets": {},
     "nuid": "aedf826e-8ee3-471c-86ec-3a63fb29b9da",
     "showTitle": false,
     "title": ""
    }
   },
   "outputs": [
    {
     "output_type": "display_data",
     "data": {
      "text/plain": [
       "Enter a string:  ganesh radha"
      ]
     },
     "metadata": {},
     "output_type": "display_data"
    },
    {
     "output_type": "stream",
     "name": "stdout",
     "output_type": "stream",
     "text": [
      "Length of the string (excluding spaces): 11\nCharacter occurrences (excluding spaces):\n'g': 1\n'a': 3\n'n': 1\n'e': 1\n's': 1\n'h': 2\n'r': 1\n'd': 1\n"
     ]
    }
   ],
   "source": [
    "def analyze_string(input_string):\n",
    "    # Remove spaces from the input string\n",
    "    modified_string = input_string.replace(\" \", \"\")\n",
    "    \n",
    "    # Calculate the length of the modified string\n",
    "    length_of_string = len(modified_string)\n",
    "    \n",
    "    # Create a dictionary to count occurrences of each character\n",
    "    char_count = {}\n",
    "    for char in modified_string:\n",
    "        if char in char_count:\n",
    "            char_count[char] += 1\n",
    "        else:\n",
    "            char_count[char] = 1\n",
    "    \n",
    "    # Print the results\n",
    "    print(f\"Length of the string (excluding spaces): {length_of_string}\")\n",
    "    print(\"Character occurrences (excluding spaces):\")\n",
    "    for char, count in char_count.items():\n",
    "        print(f\"'{char}': {count}\")\n",
    "\n",
    "# Example usage:\n",
    "input_string = input(\"Enter a string: \")\n",
    "analyze_string(input_string)\n"
   ]
  }
 ],
 "metadata": {
  "application/vnd.databricks.v1+notebook": {
   "dashboards": [],
   "environmentMetadata": null,
   "language": "python",
   "notebookMetadata": {
    "pythonIndentUnit": 4
   },
   "notebookName": "𝗪𝗿𝗶𝘁𝗲 𝗮 𝗣𝘆𝘁𝗵𝗼𝗻 𝗽𝗿𝗼𝗴𝗿𝗮𝗺 𝘁𝗼 𝗴𝗲𝘁 𝘁𝗵𝗲 𝗹𝗲𝗻𝗴𝘁𝗵 𝗼𝗳 𝘁𝗵𝗲 𝗶𝗻𝗽𝘂𝘁 𝘀𝘁𝗿𝗶𝗻𝗴𝘀 𝗮𝗻𝗱 𝗰𝗼𝘂𝗻𝘁 𝗲𝗮𝗰𝗵 𝗰𝗵𝗮𝗿𝗮𝗰𝘁𝗲𝗿 𝗼𝗰𝗰𝘂𝗿𝗿𝗲𝗻𝗰𝗲 𝗲𝘅𝗰𝗹𝘂𝗱𝗶𝗻𝗴 𝘀𝗽𝗮𝗰𝗲𝘀:",
   "widgets": {}
  }
 },
 "nbformat": 4,
 "nbformat_minor": 0
}

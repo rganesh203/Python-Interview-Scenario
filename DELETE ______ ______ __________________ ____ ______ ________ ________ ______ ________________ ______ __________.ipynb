{
 "cells": [
  {
   "cell_type": "code",
   "execution_count": 0,
   "metadata": {
    "application/vnd.databricks.v1+cell": {
     "cellMetadata": {
      "byteLimit": 2048000,
      "rowLimit": 10000
     },
     "inputWidgets": {},
     "nuid": "26e1be80-3087-4357-9772-3cb5863f3d2d",
     "showTitle": false,
     "title": ""
    }
   },
   "outputs": [
    {
     "output_type": "stream",
     "name": "stdout",
     "output_type": "stream",
     "text": [
      "List after removing second occurrence: [3, 1, 6, 2, 7, 5, 4, 9, 16, 14, 2]\n"
     ]
    }
   ],
   "source": [
    "def delete_second_occurrence(lst):\n",
    "    # Dictionary to track occurrences of each element\n",
    "    occurrences = {}\n",
    "    \n",
    "    # Iterate through the list with index\n",
    "    i = 0\n",
    "    while i < len(lst):\n",
    "        item = lst[i]\n",
    "        if item in occurrences:\n",
    "            occurrences[item] += 1\n",
    "        else:\n",
    "            occurrences[item] = 1\n",
    "        \n",
    "        # Check if it's the second occurrence\n",
    "        if occurrences[item] == 2:\n",
    "            # Remove the second occurrence\n",
    "            lst.pop(i)\n",
    "            # No need to increment `i` as the next element shifts to the current index\n",
    "        else:\n",
    "            i += 1  # Move to the next index only if no element was removed\n",
    "    \n",
    "    return lst\n",
    "\n",
    "# Example usage:\n",
    "l = [3, 1, 6, 2, 7, 2, 5, 4, 9, 16, 14, 2]\n",
    "result = delete_second_occurrence(l)\n",
    "print(\"List after removing second occurrence:\", result)\n"
   ]
  }
 ],
 "metadata": {
  "application/vnd.databricks.v1+notebook": {
   "dashboards": [],
   "environmentMetadata": null,
   "language": "python",
   "notebookMetadata": {
    "pythonIndentUnit": 4
   },
   "notebookName": "DELETE 𝗧𝗛𝗘 𝟮𝗡𝗗 𝗢𝗖𝗖𝗨𝗥𝗔𝗡𝗖𝗘 𝗼𝗳 𝘁𝗵𝗲 𝗹𝗶𝘀𝘁 𝗼𝗻𝗹𝘆 𝗮𝗻𝗱 𝗺𝗮𝗶𝗻𝘁𝗮𝗶𝗻 𝘁𝗵𝗲 𝗼𝗿𝗱𝗲𝗿",
   "widgets": {}
  }
 },
 "nbformat": 4,
 "nbformat_minor": 0
}

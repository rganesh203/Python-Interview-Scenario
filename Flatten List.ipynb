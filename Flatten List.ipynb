{
 "cells": [
  {
   "cell_type": "code",
   "execution_count": 0,
   "metadata": {
    "application/vnd.databricks.v1+cell": {
     "cellMetadata": {
      "byteLimit": 2048000,
      "rowLimit": 10000
     },
     "inputWidgets": {},
     "nuid": "6e12b22e-c926-4894-92bc-fe8424bddc8e",
     "showTitle": false,
     "tableResultSettingsMap": {},
     "title": ""
    }
   },
   "outputs": [
    {
     "output_type": "stream",
     "name": "stdout",
     "output_type": "stream",
     "text": [
      "[1, 2, 3, 4, 5, 6, 7, 8]\n"
     ]
    }
   ],
   "source": [
    "def flatten_list(nested_list):\n",
    "    flattened = []\n",
    "    for item in nested_list:\n",
    "        if isinstance(item, list):\n",
    "            flattened.extend(flatten_list(item))\n",
    "        else:\n",
    "            flattened.append(item)\n",
    "    return flattened\n",
    "\n",
    "# Example usage:\n",
    "nested_list = [1, [2, [3, 4], 5], [6, 7], 8]\n",
    "print(flatten_list(nested_list))"
   ]
  },
  {
   "cell_type": "code",
   "execution_count": 0,
   "metadata": {
    "application/vnd.databricks.v1+cell": {
     "cellMetadata": {
      "byteLimit": 2048000,
      "rowLimit": 10000
     },
     "inputWidgets": {},
     "nuid": "03ef3fd3-ee1c-453a-8b09-f7410bbb8914",
     "showTitle": false,
     "tableResultSettingsMap": {},
     "title": ""
    }
   },
   "outputs": [
    {
     "output_type": "stream",
     "name": "stdout",
     "output_type": "stream",
     "text": [
      "None\n[1, 2, 3, 4, 5, 6, 7, 8]\n"
     ]
    }
   ],
   "source": [
    "def flatten_list(nested_list):\n",
    "    flattened = []\n",
    "    for i in nested_list:\n",
    "        if type(i)==int:  # Check if the item is of type 'list'\n",
    "            flattened.append(i)  # Recursively flatten\n",
    "        if type(i)==list:  # Check if the item is of type 'int'\n",
    "            for j in range(len(i)):\n",
    "                flattened.append(i)  # Add integers to the flattened list\n",
    "# Example usage:\n",
    "nested_list = [1, [2, [3, 4], 5], [6, 7], 8]\n",
    "print(flatten_list(nested_list))\n",
    "print(flattened)\n",
    "# Output: [1, 2, 3, 4, 5, 6, 7, 8]\n"
   ]
  }
 ],
 "metadata": {
  "application/vnd.databricks.v1+notebook": {
   "computePreferences": null,
   "dashboards": [],
   "environmentMetadata": {
    "base_environment": "",
    "client": "1"
   },
   "language": "python",
   "notebookMetadata": {
    "pythonIndentUnit": 4
   },
   "notebookName": "Flatten List",
   "widgets": {}
  }
 },
 "nbformat": 4,
 "nbformat_minor": 0
}

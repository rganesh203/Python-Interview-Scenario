{
 "cells": [
  {
   "cell_type": "code",
   "execution_count": 0,
   "metadata": {
    "application/vnd.databricks.v1+cell": {
     "cellMetadata": {
      "byteLimit": 2048000,
      "rowLimit": 10000
     },
     "inputWidgets": {},
     "nuid": "d367a2e1-afd0-4056-8c4b-374d403fd6e0",
     "showTitle": false,
     "tableResultSettingsMap": {},
     "title": ""
    }
   },
   "outputs": [
    {
     "output_type": "stream",
     "name": "stdout",
     "output_type": "stream",
     "text": [
      "Original array: [1, 2, 3, 4, 5]\nArray after swapping: [5, 2, 3, 4, 1]\n"
     ]
    }
   ],
   "source": [
    "def interchange_first_last(arr):\n",
    "    if len(arr) > 1:\n",
    "        arr[0], arr[-1] = arr[-1], arr[0]  # Swap first and last element\n",
    "    return arr\n",
    "\n",
    "# Example usage:\n",
    "arr = [1, 2, 3, 4, 5]\n",
    "print(f\"Original array: {arr}\")\n",
    "print(f\"Array after swapping: {interchange_first_last(arr)}\")"
   ]
  },
  {
   "cell_type": "code",
   "execution_count": 0,
   "metadata": {
    "application/vnd.databricks.v1+cell": {
     "cellMetadata": {
      "byteLimit": 2048000,
      "rowLimit": 10000
     },
     "inputWidgets": {},
     "nuid": "68b8461c-f6bc-4d35-8a5c-c5bf0efae962",
     "showTitle": false,
     "tableResultSettingsMap": {},
     "title": ""
    }
   },
   "outputs": [
    {
     "output_type": "stream",
     "name": "stdout",
     "output_type": "stream",
     "text": [
      "Original array: [1, 2, 3, 4, 5]\nArray after swapping: [5, 2, 3, 4, 1]\n"
     ]
    }
   ],
   "source": [
    "def interchange_first_last(arr):\n",
    "    if len(arr) > 1:\n",
    "        temp = arr[0]\n",
    "        arr[0] = arr[-1]\n",
    "        arr[-1] = temp\n",
    "    return arr\n",
    "\n",
    "# Example usage:\n",
    "arr = [1, 2, 3, 4, 5]\n",
    "print(f\"Original array: {arr}\")\n",
    "print(f\"Array after swapping: {interchange_first_last(arr)}\")"
   ]
  },
  {
   "cell_type": "code",
   "execution_count": 0,
   "metadata": {
    "application/vnd.databricks.v1+cell": {
     "cellMetadata": {
      "byteLimit": 2048000,
      "rowLimit": 10000
     },
     "inputWidgets": {},
     "nuid": "593c5132-e749-45b8-ad8a-6ad15982facd",
     "showTitle": false,
     "tableResultSettingsMap": {},
     "title": ""
    }
   },
   "outputs": [
    {
     "output_type": "stream",
     "name": "stdout",
     "output_type": "stream",
     "text": [
      "Original array: [1, 2, 3, 4, 5]\nArray after swapping: [5, 2, 3, 4, 1]\n"
     ]
    }
   ],
   "source": [
    "def interchange_first_last(arr):\n",
    "    return [arr[-1]] + arr[1:-1] + [arr[0]] if len(arr) > 1 else arr\n",
    "\n",
    "# Example usage:\n",
    "arr = [1, 2, 3, 4, 5]\n",
    "print(f\"Original array: {arr}\")\n",
    "print(f\"Array after swapping: {interchange_first_last(arr)}\")"
   ]
  }
 ],
 "metadata": {
  "application/vnd.databricks.v1+notebook": {
   "dashboards": [],
   "environmentMetadata": null,
   "language": "python",
   "notebookMetadata": {
    "pythonIndentUnit": 4
   },
   "notebookName": "Interchange first and Last element in array",
   "widgets": {}
  }
 },
 "nbformat": 4,
 "nbformat_minor": 0
}

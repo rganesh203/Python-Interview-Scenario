{
 "cells": [
  {
   "cell_type": "code",
   "execution_count": 0,
   "metadata": {
    "application/vnd.databricks.v1+cell": {
     "cellMetadata": {
      "byteLimit": 2048000,
      "rowLimit": 10000
     },
     "inputWidgets": {},
     "nuid": "1d652a54-da40-476f-915c-ea7a67912835",
     "showTitle": false,
     "title": ""
    }
   },
   "outputs": [
    {
     "output_type": "stream",
     "name": "stdout",
     "output_type": "stream",
     "text": [
      "List after removing duplicates: [3, 1, 6, 2, 7, 5, 4, 9, 16, 14]\n"
     ]
    }
   ],
   "source": [
    "def remove_duplicates(lst):\n",
    "    # Create an empty list to store unique elements\n",
    "    unique_list = []\n",
    "    \n",
    "    # Iterate through each item in the original list\n",
    "    for item in lst:\n",
    "        # Check if the item is not already in the unique_list\n",
    "        if item not in unique_list:\n",
    "            unique_list.append(item)  # Add the item to the unique_list if it's not a duplicate\n",
    "    \n",
    "    return unique_list\n",
    "\n",
    "# Example usage:\n",
    "l = [3, 1, 6, 2, 7, 5, 4, 9, 16, 14, 2, 6, 7]\n",
    "unique_list = remove_duplicates(l)\n",
    "print(\"List after removing duplicates:\", unique_list)\n"
   ]
  }
 ],
 "metadata": {
  "application/vnd.databricks.v1+notebook": {
   "dashboards": [],
   "environmentMetadata": null,
   "language": "python",
   "notebookMetadata": {
    "pythonIndentUnit": 4
   },
   "notebookName": "Manual Duplicate Removal",
   "widgets": {}
  }
 },
 "nbformat": 4,
 "nbformat_minor": 0
}

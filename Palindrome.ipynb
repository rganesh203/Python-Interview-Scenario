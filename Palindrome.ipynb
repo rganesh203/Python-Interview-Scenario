{
 "cells": [
  {
   "cell_type": "code",
   "execution_count": 0,
   "metadata": {
    "application/vnd.databricks.v1+cell": {
     "cellMetadata": {
      "byteLimit": 2048000,
      "rowLimit": 10000
     },
     "inputWidgets": {},
     "nuid": "1247b4aa-d4e0-4d05-a253-b505c137f4f7",
     "showTitle": false,
     "title": ""
    }
   },
   "outputs": [
    {
     "output_type": "stream",
     "name": "stdout",
     "output_type": "stream",
     "text": [
      "\"Madam\" is a palindrome.\n"
     ]
    }
   ],
   "source": [
    "def is_palindrome(string):\n",
    "    # Convert the string to lowercase to make it case-insensitive\n",
    "    string = string.lower()\n",
    "    \n",
    "    # Reverse the string and compare it with the original string\n",
    "    if string == string[::-1]:\n",
    "        return True\n",
    "    else:\n",
    "        return False\n",
    "\n",
    "# Example usage:\n",
    "input_string = \"Madam\"\n",
    "if is_palindrome(input_string):\n",
    "    print(f'\"{input_string}\" is a palindrome.')\n",
    "else:\n",
    "    print(f'\"{input_string}\" is not a palindrome.')\n"
   ]
  },
  {
   "cell_type": "code",
   "execution_count": 0,
   "metadata": {
    "application/vnd.databricks.v1+cell": {
     "cellMetadata": {
      "byteLimit": 2048000,
      "rowLimit": 10000
     },
     "inputWidgets": {},
     "nuid": "a75e923b-137b-4873-a739-e0a50b93264a",
     "showTitle": false,
     "title": ""
    }
   },
   "outputs": [
    {
     "output_type": "stream",
     "name": "stdout",
     "output_type": "stream",
     "text": [
      "\"Madam\" is a palindrome.\n"
     ]
    }
   ],
   "source": [
    "def is_palindrome(string):\n",
    "    # Convert the string to lowercase to make it case-insensitive\n",
    "    string = string.lower()\n",
    "    \n",
    "    # Initialize two pointers: one at the start and one at the end of the string\n",
    "    left = 0\n",
    "    right = len(string) - 1\n",
    "    \n",
    "    # Iterate while the left pointer is less than the right pointer\n",
    "    while left < right:\n",
    "        # Compare characters at the left and right pointers\n",
    "        if string[left] != string[right]:\n",
    "            return False  # If characters don't match, it's not a palindrome\n",
    "        # Move the pointers towards the center\n",
    "        left += 1\n",
    "        right -= 1\n",
    "    \n",
    "    return True  # If the loop completes, the string is a palindrome\n",
    "\n",
    "# Example usage:\n",
    "input_string = \"Madam\"\n",
    "if is_palindrome(input_string):\n",
    "    print(f'\"{input_string}\" is a palindrome.')\n",
    "else:\n",
    "    print(f'\"{input_string}\" is not a palindrome.')\n"
   ]
  }
 ],
 "metadata": {
  "application/vnd.databricks.v1+notebook": {
   "dashboards": [],
   "environmentMetadata": null,
   "language": "python",
   "notebookMetadata": {
    "pythonIndentUnit": 4
   },
   "notebookName": "𝗖𝗛𝗘𝗖𝗞 𝗜𝗙 𝗔 𝗦𝗧𝗥𝗜𝗡𝗚 𝗜𝗦 𝗣𝗔𝗟𝗜𝗡𝗗𝗥𝗢𝗠𝗘 𝗢𝗥 𝗡𝗢𝗧",
   "widgets": {}
  }
 },
 "nbformat": 4,
 "nbformat_minor": 0
}

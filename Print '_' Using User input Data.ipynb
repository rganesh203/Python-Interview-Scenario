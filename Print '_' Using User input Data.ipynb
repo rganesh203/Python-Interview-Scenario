{
 "cells": [
  {
   "cell_type": "code",
   "execution_count": 0,
   "metadata": {
    "application/vnd.databricks.v1+cell": {
     "cellMetadata": {
      "byteLimit": 2048000,
      "rowLimit": 10000
     },
     "inputWidgets": {},
     "nuid": "939bec6e-e3ef-4de2-9d67-b63ee753e326",
     "showTitle": false,
     "title": ""
    }
   },
   "outputs": [
    {
     "output_type": "display_data",
     "data": {
      "text/plain": [
       "Enter the number of rows:  6"
      ]
     },
     "metadata": {},
     "output_type": "display_data"
    },
    {
     "output_type": "stream",
     "name": "stdout",
     "output_type": "stream",
     "text": [
      "* \n* * \n* * * \n* * * * \n* * * * * \n* * * * * * \n"
     ]
    }
   ],
   "source": [
    "def print_right_angle_triangle():\n",
    "    n = int(input(\"Enter the number of rows: \"))  # Take user input for number of rows\n",
    "    for i in range(1, n + 1):                     # Outer loop for the rows\n",
    "        for j in range(i):                        # Inner loop for the columns\n",
    "            print('* ', end='')                    # Print '*' without a newline\n",
    "        print()                                   # Move to the next line after each row\n",
    "\n",
    "# Example usage:\n",
    "print_right_angle_triangle()\n"
   ]
  }
 ],
 "metadata": {
  "application/vnd.databricks.v1+notebook": {
   "dashboards": [],
   "environmentMetadata": null,
   "language": "python",
   "notebookMetadata": {
    "pythonIndentUnit": 4
   },
   "notebookName": "Print '*' Using User input Data",
   "widgets": {}
  }
 },
 "nbformat": 4,
 "nbformat_minor": 0
}

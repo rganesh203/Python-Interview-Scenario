{
 "cells": [
  {
   "cell_type": "code",
   "execution_count": 0,
   "metadata": {
    "application/vnd.databricks.v1+cell": {
     "cellMetadata": {
      "byteLimit": 2048000,
      "rowLimit": 10000
     },
     "inputWidgets": {},
     "nuid": "0b9dc452-4759-4a44-bb35-0c29520ae9b4",
     "showTitle": false,
     "title": ""
    }
   },
   "outputs": [
    {
     "output_type": "display_data",
     "data": {
      "text/plain": [
       "Enter the number of rows for the top half of the diamond:  6"
      ]
     },
     "metadata": {},
     "output_type": "display_data"
    },
    {
     "output_type": "stream",
     "name": "stdout",
     "output_type": "stream",
     "text": [
      "     *\n    ***\n   *****\n  *******\n *********\n***********\n *********\n  *******\n   *****\n    ***\n     *\n"
     ]
    }
   ],
   "source": [
    "def print_diamond(n):\n",
    "    # Top half of the diamond (including the middle row)\n",
    "    for i in range(1, n + 1):\n",
    "        # Print spaces\n",
    "        for j in range(n - i):\n",
    "            print(' ', end='')\n",
    "        # Print stars\n",
    "        for k in range(2 * i - 1):\n",
    "            print('*', end='')\n",
    "        # Move to the next line\n",
    "        print()\n",
    "    \n",
    "    # Bottom half of the diamond\n",
    "    for i in range(n - 1, 0, -1):\n",
    "        # Print spaces\n",
    "        for j in range(n - i):\n",
    "            print(' ', end='')\n",
    "        # Print stars\n",
    "        for k in range(2 * i - 1):\n",
    "            print('*', end='')\n",
    "        # Move to the next line\n",
    "        print()\n",
    "\n",
    "# Get user input\n",
    "n = int(input(\"Enter the number of rows for the top half of the diamond: \"))\n",
    "\n",
    "# Call the function with the user's input\n",
    "print_diamond(n)\n"
   ]
  },
  {
   "cell_type": "code",
   "execution_count": 0,
   "metadata": {
    "application/vnd.databricks.v1+cell": {
     "cellMetadata": {
      "byteLimit": 2048000,
      "rowLimit": 10000
     },
     "inputWidgets": {},
     "nuid": "5014be58-3bcf-42f8-a6b6-71f8aa9cad67",
     "showTitle": false,
     "title": ""
    }
   },
   "outputs": [
    {
     "output_type": "display_data",
     "data": {
      "text/plain": [
       "Enter the number of rows for the top half of the diamond:  6"
      ]
     },
     "metadata": {},
     "output_type": "display_data"
    },
    {
     "output_type": "stream",
     "name": "stdout",
     "output_type": "stream",
     "text": [
      "     *\n    ***\n   *****\n  *******\n *********\n***********\n *********\n  *******\n   *****\n    ***\n     *\n"
     ]
    }
   ],
   "source": [
    "def print_diamond_optimized(n):\n",
    "    # Pre-compute all rows for the diamond\n",
    "    diamond = []\n",
    "    \n",
    "    # Top half (and middle row)\n",
    "    for i in range(1, n + 1):\n",
    "        line = ' ' * (n - i) + '*' * (2 * i - 1)\n",
    "        diamond.append(line)\n",
    "    \n",
    "    # Bottom half (excluding middle row)\n",
    "    for i in range(n - 1, 0, -1):\n",
    "        line = ' ' * (n - i) + '*' * (2 * i - 1)\n",
    "        diamond.append(line)\n",
    "    \n",
    "    # Print all at once\n",
    "    print(\"\\n\".join(diamond))\n",
    "\n",
    "# Get user input\n",
    "n = int(input(\"Enter the number of rows for the top half of the diamond: \"))\n",
    "\n",
    "# Call the function with the user's input\n",
    "print_diamond_optimized(n)\n"
   ]
  },
  {
   "cell_type": "code",
   "execution_count": 0,
   "metadata": {
    "application/vnd.databricks.v1+cell": {
     "cellMetadata": {
      "byteLimit": 2048000,
      "rowLimit": 10000
     },
     "inputWidgets": {},
     "nuid": "92d44ffd-1a08-49cd-a058-4a55931c6ee1",
     "showTitle": false,
     "title": ""
    }
   },
   "outputs": [
    {
     "output_type": "display_data",
     "data": {
      "text/plain": [
       "Enter the number of rows for the top half of the diamond:  6"
      ]
     },
     "metadata": {},
     "output_type": "display_data"
    },
    {
     "output_type": "stream",
     "name": "stdout",
     "output_type": "stream",
     "text": [
      "     * \n    * * \n   * * * \n  * * * * \n * * * * * \n* * * * * * \n * * * * * \n  * * * * \n   * * * \n    * * \n     * \n"
     ]
    }
   ],
   "source": [
    "def print_diamond(n):\n",
    "    top_half = [' ' * (n - i - 1) + '* ' * (i + 1) for i in range(n)]\n",
    "    bottom_half = [' ' * (n - i - 1) + '* ' * (i + 1) for i in range(n - 2, -1, -1)]\n",
    "    \n",
    "    for row in top_half + bottom_half:\n",
    "        print(row)\n",
    "\n",
    "# Example usage\n",
    "n = int(input(\"Enter the number of rows for the top half of the diamond: \"))\n",
    "print_diamond(n)\n"
   ]
  }
 ],
 "metadata": {
  "application/vnd.databricks.v1+notebook": {
   "dashboards": [],
   "environmentMetadata": null,
   "language": "python",
   "notebookMetadata": {
    "pythonIndentUnit": 4
   },
   "notebookName": "Printing Stars '*' in Diamond Shape",
   "widgets": {}
  }
 },
 "nbformat": 4,
 "nbformat_minor": 0
}

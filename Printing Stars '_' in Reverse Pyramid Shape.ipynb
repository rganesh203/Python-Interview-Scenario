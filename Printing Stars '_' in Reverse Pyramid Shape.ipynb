{
 "cells": [
  {
   "cell_type": "code",
   "execution_count": 0,
   "metadata": {
    "application/vnd.databricks.v1+cell": {
     "cellMetadata": {
      "byteLimit": 2048000,
      "rowLimit": 10000
     },
     "inputWidgets": {},
     "nuid": "0c25c20b-0aeb-404a-b0a9-68de266f1203",
     "showTitle": false,
     "title": ""
    }
   },
   "outputs": [
    {
     "output_type": "stream",
     "name": "stdout",
     "output_type": "stream",
     "text": [
      "* * * * * \n * * * * \n  * * * \n   * * \n    * \n"
     ]
    }
   ],
   "source": [
    "# Number of rows for the reverse pyramid\n",
    "n = 5\n",
    "\n",
    "# Loop for each row\n",
    "for i in range(n, 0, -1):\n",
    "    # Print spaces for alignment\n",
    "    print(' ' * (n - i), end='')\n",
    "    # Print stars\n",
    "    print('* ' * i)\n"
   ]
  },
  {
   "cell_type": "code",
   "execution_count": 0,
   "metadata": {
    "application/vnd.databricks.v1+cell": {
     "cellMetadata": {
      "byteLimit": 2048000,
      "rowLimit": 10000
     },
     "inputWidgets": {},
     "nuid": "40b84d3f-75bb-42d4-bb80-bf781111e803",
     "showTitle": false,
     "title": ""
    }
   },
   "outputs": [
    {
     "output_type": "stream",
     "name": "stdout",
     "output_type": "stream",
     "text": [
      "* * * * * \n * * * * \n  * * * \n   * * \n    * \n"
     ]
    }
   ],
   "source": [
    "def print_reverse_pyramid(n):\n",
    "    # Loop for each row\n",
    "    for i in range(n, 0, -1):\n",
    "        # Print spaces for alignment\n",
    "        print(' ' * (n - i), end='')\n",
    "        # Print stars\n",
    "        print('* ' * i)\n",
    "\n",
    "# Example usage\n",
    "print_reverse_pyramid(5)\n"
   ]
  },
  {
   "cell_type": "code",
   "execution_count": 0,
   "metadata": {
    "application/vnd.databricks.v1+cell": {
     "cellMetadata": {
      "byteLimit": 2048000,
      "rowLimit": 10000
     },
     "inputWidgets": {},
     "nuid": "5b20174b-0365-4820-b613-1803801b02bf",
     "showTitle": false,
     "title": ""
    }
   },
   "outputs": [
    {
     "output_type": "display_data",
     "data": {
      "text/plain": [
       "Enter the number of rows for the reverse pyramid:  5"
      ]
     },
     "metadata": {},
     "output_type": "display_data"
    },
    {
     "output_type": "stream",
     "name": "stdout",
     "output_type": "stream",
     "text": [
      "* * * * * \n * * * * \n  * * * \n   * * \n    * \n"
     ]
    }
   ],
   "source": [
    "def print_reverse_pyramid(n):\n",
    "    # Loop for each row\n",
    "    for i in range(n, 0, -1):\n",
    "        # Print spaces for alignment\n",
    "        print(' ' * (n - i), end='')\n",
    "        # Print stars\n",
    "        print('* ' * i)\n",
    "\n",
    "# Get user input\n",
    "n = int(input(\"Enter the number of rows for the reverse pyramid: \"))\n",
    "\n",
    "# Call the function with the user's input\n",
    "print_reverse_pyramid(n)\n"
   ]
  },
  {
   "cell_type": "code",
   "execution_count": 0,
   "metadata": {
    "application/vnd.databricks.v1+cell": {
     "cellMetadata": {
      "byteLimit": 2048000,
      "rowLimit": 10000
     },
     "inputWidgets": {},
     "nuid": "23eabc02-3efd-4d1c-abad-631fd1164466",
     "showTitle": false,
     "title": ""
    }
   },
   "outputs": [
    {
     "output_type": "display_data",
     "data": {
      "text/plain": [
       "Enter the number of rows for the reverse pyramid:  6"
      ]
     },
     "metadata": {},
     "output_type": "display_data"
    },
    {
     "output_type": "stream",
     "name": "stdout",
     "output_type": "stream",
     "text": [
      "* * * * * * \n * * * * * \n  * * * * \n   * * * \n    * * \n     * \n"
     ]
    }
   ],
   "source": [
    "def print_reverse_pyramid(n):\n",
    "    # Outer loop for each row\n",
    "    for i in range(n, 0, -1):\n",
    "        # Inner loop to print spaces\n",
    "        for j in range(n - i):\n",
    "            print(' ', end='')\n",
    "        \n",
    "        # Inner loop to print stars\n",
    "        for k in range(i):\n",
    "            print('* ', end='')\n",
    "        \n",
    "        # Print a new line after each row\n",
    "        print()\n",
    "\n",
    "# Get user input\n",
    "n = int(input(\"Enter the number of rows for the reverse pyramid: \"))\n",
    "\n",
    "# Call the function with the user's input\n",
    "print_reverse_pyramid(n)\n"
   ]
  }
 ],
 "metadata": {
  "application/vnd.databricks.v1+notebook": {
   "dashboards": [],
   "environmentMetadata": null,
   "language": "python",
   "notebookMetadata": {
    "pythonIndentUnit": 4
   },
   "notebookName": "Printing Stars '*' in Reverse Pyramid Shape",
   "widgets": {}
  }
 },
 "nbformat": 4,
 "nbformat_minor": 0
}

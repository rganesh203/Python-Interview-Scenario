{
 "cells": [
  {
   "cell_type": "code",
   "execution_count": 0,
   "metadata": {
    "application/vnd.databricks.v1+cell": {
     "cellMetadata": {
      "byteLimit": 2048000,
      "rowLimit": 10000
     },
     "inputWidgets": {},
     "nuid": "c59466a1-f5be-4c4b-906c-f27ee79d1421",
     "showTitle": false,
     "title": ""
    }
   },
   "outputs": [
    {
     "output_type": "stream",
     "name": "stdout",
     "output_type": "stream",
     "text": [
      "* \n* * \n* * * \n* * * * \n* * * * * \n"
     ]
    }
   ],
   "source": [
    "def print_right_angle_triangle(n):\n",
    "    for i in range(1, n + 1):        # Outer loop for the rows\n",
    "        for j in range(i):           # Inner loop for the columns\n",
    "            print('* ', end='')       # Print '*' without a newline\n",
    "        print()                      # Move to the next line after each row\n",
    "\n",
    "# Example usage:\n",
    "print_right_angle_triangle(5)\n"
   ]
  }
 ],
 "metadata": {
  "application/vnd.databricks.v1+notebook": {
   "dashboards": [],
   "environmentMetadata": null,
   "language": "python",
   "notebookMetadata": {
    "pythonIndentUnit": 4
   },
   "notebookName": "Printing Stars '*' in Right Angle Triangle Shape",
   "widgets": {}
  }
 },
 "nbformat": 4,
 "nbformat_minor": 0
}

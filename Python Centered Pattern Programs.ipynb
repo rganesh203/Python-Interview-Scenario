{
 "cells": [
  {
   "cell_type": "code",
   "execution_count": 0,
   "metadata": {
    "application/vnd.databricks.v1+cell": {
     "cellMetadata": {
      "byteLimit": 2048000,
      "rowLimit": 10000
     },
     "inputWidgets": {},
     "nuid": "aba578b3-f79b-4059-a206-66316c4702de",
     "showTitle": false,
     "title": ""
    }
   },
   "outputs": [
    {
     "output_type": "stream",
     "name": "stdout",
     "output_type": "stream",
     "text": [
      "    * \n   * * \n  * * * \n * * * * \n* * * * * \n"
     ]
    }
   ],
   "source": [
    "def centered_pyramid(rows):\n",
    "    for i in range(1, rows + 1):\n",
    "        print(' ' * (rows - i) + '* ' * i)\n",
    "\n",
    "# Example usage:\n",
    "centered_pyramid(5)\n"
   ]
  },
  {
   "cell_type": "code",
   "execution_count": 0,
   "metadata": {
    "application/vnd.databricks.v1+cell": {
     "cellMetadata": {
      "byteLimit": 2048000,
      "rowLimit": 10000
     },
     "inputWidgets": {},
     "nuid": "a6aa5137-4f44-412e-aa8c-8a4ed2eb6f43",
     "showTitle": false,
     "title": ""
    }
   },
   "outputs": [
    {
     "output_type": "display_data",
     "data": {
      "text/plain": [
       "Enter the number of rows:  8"
      ]
     },
     "metadata": {},
     "output_type": "display_data"
    },
    {
     "output_type": "stream",
     "name": "stdout",
     "output_type": "stream",
     "text": [
      "       * \n      * * \n     * * * \n    * * * * \n   * * * * * \n  * * * * * * \n * * * * * * * \n* * * * * * * * \n"
     ]
    }
   ],
   "source": [
    "def centered_pyramid_recursive(rows, current=1):\n",
    "    if current > rows:\n",
    "        return\n",
    "    # Print leading spaces\n",
    "    print(' ' * (rows - current), end='')\n",
    "    # Print stars\n",
    "    print('* ' * current)\n",
    "    centered_pyramid_recursive(rows, current + 1)\n",
    "\n",
    "# Example usage\n",
    "rows = int(input(\"Enter the number of rows: \"))\n",
    "centered_pyramid_recursive(rows)"
   ]
  },
  {
   "cell_type": "code",
   "execution_count": 0,
   "metadata": {
    "application/vnd.databricks.v1+cell": {
     "cellMetadata": {
      "byteLimit": 2048000,
      "rowLimit": 10000
     },
     "inputWidgets": {},
     "nuid": "afe0b808-163e-4c8b-a22e-3cfeb45dd5f3",
     "showTitle": false,
     "title": ""
    }
   },
   "outputs": [
    {
     "output_type": "display_data",
     "data": {
      "text/plain": [
       "Enter the number of rows:  7"
      ]
     },
     "metadata": {},
     "output_type": "display_data"
    },
    {
     "output_type": "stream",
     "name": "stdout",
     "output_type": "stream",
     "text": [
      "      *\n     * *\n    * * *\n   * * * *\n  * * * * *\n * * * * * *\n* * * * * * *\n"
     ]
    }
   ],
   "source": [
    "def centered_pyramid_string(rows):\n",
    "    for i in range(1, rows + 1):\n",
    "        stars = '* ' * i\n",
    "        print(stars.rstrip().rjust(rows + i - 1))\n",
    "\n",
    "# Example usage\n",
    "rows = int(input(\"Enter the number of rows: \"))\n",
    "centered_pyramid_string(rows)\n"
   ]
  }
 ],
 "metadata": {
  "application/vnd.databricks.v1+notebook": {
   "dashboards": [],
   "environmentMetadata": null,
   "language": "python",
   "notebookMetadata": {
    "pythonIndentUnit": 4
   },
   "notebookName": "Python Centered Pattern Programs",
   "widgets": {}
  }
 },
 "nbformat": 4,
 "nbformat_minor": 0
}

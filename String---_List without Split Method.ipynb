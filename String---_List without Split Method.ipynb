{
 "cells": [
  {
   "cell_type": "code",
   "execution_count": 0,
   "metadata": {
    "application/vnd.databricks.v1+cell": {
     "cellMetadata": {
      "byteLimit": 2048000,
      "rowLimit": 10000
     },
     "inputWidgets": {},
     "nuid": "58f70f8e-3c89-42d2-a847-e369d5064e3e",
     "showTitle": false,
     "tableResultSettingsMap": {},
     "title": ""
    }
   },
   "outputs": [
    {
     "output_type": "stream",
     "name": "stdout",
     "output_type": "stream",
     "text": [
      "['john', 'is', 'a', 'software', 'engineer']\n"
     ]
    }
   ],
   "source": [
    "def string_list(s, delim):\n",
    "    empty = []  # List to store split strings\n",
    "    a = \"\"  # Temporary string accumulator\n",
    "    for i in s:  # Loop through each character in the string\n",
    "        if i == delim:  # Check if the character matches the delimiter\n",
    "            empty.append(a)  # Append the accumulated string to the list\n",
    "            a = \"\"  # Reset the accumulator\n",
    "        else:\n",
    "            a += i  # Add character to the accumulator\n",
    "    empty.append(a)  # Append the last accumulated string\n",
    "    return empty  # Return the resulting list\n",
    "\n",
    "# Input string and delimiter\n",
    "str1 = 'john is a software engineer'\n",
    "delim = \" \"  # Delimiter is a space\n",
    "result = string_list(str1, delim)  # Call the function\n",
    "\n",
    "# Output the result\n",
    "print(result)"
   ]
  }
 ],
 "metadata": {
  "application/vnd.databricks.v1+notebook": {
   "computePreferences": null,
   "dashboards": [],
   "environmentMetadata": {
    "base_environment": "",
    "client": "1"
   },
   "language": "python",
   "notebookMetadata": {
    "pythonIndentUnit": 4
   },
   "notebookName": "String--->List without Split Method",
   "widgets": {}
  }
 },
 "nbformat": 4,
 "nbformat_minor": 0
}

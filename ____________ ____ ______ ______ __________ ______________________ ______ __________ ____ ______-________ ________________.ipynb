{
 "cells": [
  {
   "cell_type": "code",
   "execution_count": 0,
   "metadata": {
    "application/vnd.databricks.v1+cell": {
     "cellMetadata": {
      "byteLimit": 2048000,
      "rowLimit": 10000
     },
     "inputWidgets": {},
     "nuid": "a8486103-dd33-453c-947f-c82314256cad",
     "showTitle": false,
     "title": ""
    }
   },
   "outputs": [
    {
     "output_type": "stream",
     "name": "stdout",
     "output_type": "stream",
     "text": [
      "[5, 9, 20, 12, 0, 0, 0]\n"
     ]
    }
   ],
   "source": [
    "def move_zeros_to_end(input_list):\n",
    "    non_zero_list = []  # List to store non-zero elements\n",
    "    zero_count = 0      # Counter for zeros\n",
    "\n",
    "    # Iterate through the input list\n",
    "    for i in input_list:\n",
    "        if i != 0:\n",
    "            non_zero_list.append(i)  # Append non-zero elements\n",
    "        else:\n",
    "            zero_count += 1  # Count zeros\n",
    "\n",
    "    # Append the zeros at the end\n",
    "    for j in range(zero_count):\n",
    "        non_zero_list.append(0)\n",
    "\n",
    "    return non_zero_list\n",
    "\n",
    "# Example usage:\n",
    "input_list = [0, 5, 9, 0, 20, 12, 0]\n",
    "reordered_list = move_zeros_to_end(input_list)\n",
    "print(reordered_list)\n"
   ]
  }
 ],
 "metadata": {
  "application/vnd.databricks.v1+notebook": {
   "dashboards": [],
   "environmentMetadata": null,
   "language": "python",
   "notebookMetadata": {
    "pythonIndentUnit": 4
   },
   "notebookName": "𝗽𝗹𝗮𝗰𝗲𝗱 𝗮𝘁 𝘁𝗵𝗲 𝗲𝗻𝗱 𝘄𝗵𝗶𝗹𝗲 𝗺𝗮𝗶𝗻𝘁𝗮𝗶𝗻𝗶𝗻𝗴 𝘁𝗵𝗲 𝗼𝗿𝗱𝗲𝗿 𝗼𝗳 𝗻𝗼𝗻-𝘇𝗲𝗿𝗼 𝗲𝗹𝗲𝗺𝗲𝗻𝘁𝘀",
   "widgets": {}
  }
 },
 "nbformat": 4,
 "nbformat_minor": 0
}

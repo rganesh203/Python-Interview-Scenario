{
 "cells": [
  {
   "cell_type": "code",
   "execution_count": 0,
   "metadata": {
    "application/vnd.databricks.v1+cell": {
     "cellMetadata": {
      "byteLimit": 2048000,
      "rowLimit": 10000
     },
     "inputWidgets": {},
     "nuid": "8e71c513-7575-4677-a0c2-b2c0a65700db",
     "showTitle": false,
     "title": ""
    }
   },
   "outputs": [
    {
     "output_type": "stream",
     "name": "stdout",
     "output_type": "stream",
     "text": [
      "[3, 4, 5]\n"
     ]
    }
   ],
   "source": [
    "def intersection(list1, list2):\n",
    "    # Initialize an empty list to store the intersection\n",
    "    intersect = []\n",
    "\n",
    "    # Iterate through each element in list1\n",
    "    for item in list1:\n",
    "        # Check if the item is also in list2 and not already in intersect list\n",
    "        if item in list2 and item not in intersect:\n",
    "            intersect.append(item)\n",
    "\n",
    "    return intersect\n",
    "\n",
    "# Example usage:\n",
    "list1 = [1, 2, 3, 4, 5]\n",
    "list2 = [3, 4, 5, 6, 7]\n",
    "print(intersection(list1, list2))  \n",
    "# Output: [3, 4, 5]\n"
   ]
  }
 ],
 "metadata": {
  "application/vnd.databricks.v1+notebook": {
   "dashboards": [],
   "environmentMetadata": null,
   "language": "python",
   "notebookMetadata": {
    "pythonIndentUnit": 4
   },
   "notebookName": "𝗖𝗮𝗹𝗰𝘂𝗹𝗮𝘁𝗲 𝘁𝗵𝗲 𝗜𝗻𝘁𝗲𝗿𝘀𝗲𝗰𝘁𝗶𝗼𝗻 𝗼𝗳 𝗧𝘄𝗼 𝗟𝗶𝘀𝘁𝘀 𝘄𝗶𝘁𝗵𝗼𝘂𝘁 𝘂𝘀𝗶𝗻𝗴 𝗕𝘂𝗶𝗹𝘁-𝗶𝗻 𝗙𝘂𝗻𝗰𝘁𝗶𝗼𝗻𝘀",
   "widgets": {}
  }
 },
 "nbformat": 4,
 "nbformat_minor": 0
}

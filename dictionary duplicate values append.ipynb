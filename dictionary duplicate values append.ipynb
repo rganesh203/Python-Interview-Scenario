{
 "cells": [
  {
   "cell_type": "code",
   "execution_count": 0,
   "metadata": {
    "application/vnd.databricks.v1+cell": {
     "cellMetadata": {
      "byteLimit": 2048000,
      "rowLimit": 10000
     },
     "inputWidgets": {},
     "nuid": "0ed0f9e3-bb45-48a7-91f7-102e66a96b19",
     "showTitle": false,
     "tableResultSettingsMap": {},
     "title": ""
    }
   },
   "outputs": [
    {
     "output_type": "stream",
     "name": "stdout",
     "output_type": "stream",
     "text": [
      "{10: ['a', 'c'], 20: ['b', 'e'], 30: ['d']}\n"
     ]
    }
   ],
   "source": [
    "def group_by_value(dictionary):\n",
    "    result = {}\n",
    "    for key, value in dictionary.items():\n",
    "        if value in result:\n",
    "            result[value].append(key)  # Append key to the list of keys\n",
    "        else:\n",
    "            result[value] = [key]  # Initialize a new list with the key\n",
    "    return result\n",
    "\n",
    "# Example\n",
    "my_dict = {'a': 10, 'b': 20, 'c': 10, 'd': 30, 'e': 20}\n",
    "print(group_by_value(my_dict))\n",
    "# Output: {10: ['a', 'c'], 20: ['b', 'e'], 30: ['d']}\n"
   ]
  },
  {
   "cell_type": "code",
   "execution_count": 0,
   "metadata": {
    "application/vnd.databricks.v1+cell": {
     "cellMetadata": {
      "byteLimit": 2048000,
      "rowLimit": 10000
     },
     "inputWidgets": {},
     "nuid": "bc8b80c3-d7e1-466a-b536-538945cced70",
     "showTitle": false,
     "tableResultSettingsMap": {},
     "title": ""
    }
   },
   "outputs": [
    {
     "output_type": "stream",
     "name": "stdout",
     "output_type": "stream",
     "text": [
      "{10: ['a', 'c'], 20: ['b', 'e'], 30: ['d']}\n"
     ]
    }
   ],
   "source": [
    "def group_by_value(dictionary):\n",
    "    result = {}\n",
    "    keys = list(dictionary.keys())\n",
    "    index = 0\n",
    "\n",
    "    while index < len(keys):\n",
    "        key = keys[index]\n",
    "        value = dictionary[key]\n",
    "\n",
    "        if value in result:\n",
    "            result[value].append(key)\n",
    "        else:\n",
    "            result[value] = [key]\n",
    "        \n",
    "        index += 1\n",
    "\n",
    "    return result\n",
    "\n",
    "# Example\n",
    "my_dict = {'a': 10, 'b': 20, 'c': 10, 'd': 30, 'e': 20}\n",
    "print(group_by_value(my_dict))\n",
    "# Output: {10: ['a', 'c'], 20: ['b', 'e'], 30: ['d']}\n"
   ]
  },
  {
   "cell_type": "code",
   "execution_count": 0,
   "metadata": {
    "application/vnd.databricks.v1+cell": {
     "cellMetadata": {
      "byteLimit": 2048000,
      "rowLimit": 10000
     },
     "inputWidgets": {},
     "nuid": "98c22f56-33f5-486b-8a39-bf2cb4bb4d08",
     "showTitle": false,
     "tableResultSettingsMap": {},
     "title": ""
    }
   },
   "outputs": [
    {
     "output_type": "stream",
     "name": "stdout",
     "output_type": "stream",
     "text": [
      "{10: ['a', 'c'], 20: ['b', 'e'], 30: ['d']}\n"
     ]
    }
   ],
   "source": [
    "def group_by_value(dictionary):\n",
    "    result = {}\n",
    "    for key, value in dictionary.items():\n",
    "        result.setdefault(value, []).append(key)\n",
    "    return result\n",
    "\n",
    "# Example\n",
    "my_dict = {'a': 10, 'b': 20, 'c': 10, 'd': 30, 'e': 20}\n",
    "print(group_by_value(my_dict))\n",
    "# Output: {10: ['a', 'c'], 20: ['b', 'e'], 30: ['d']}\n"
   ]
  },
  {
   "cell_type": "code",
   "execution_count": 0,
   "metadata": {
    "application/vnd.databricks.v1+cell": {
     "cellMetadata": {
      "byteLimit": 2048000,
      "rowLimit": 10000
     },
     "inputWidgets": {},
     "nuid": "d1730572-83da-4a60-a629-f05459d1e4e5",
     "showTitle": false,
     "tableResultSettingsMap": {},
     "title": ""
    }
   },
   "outputs": [
    {
     "output_type": "stream",
     "name": "stdout",
     "output_type": "stream",
     "text": [
      "{20: ['e', 'b'], 30: ['d'], 10: ['c', 'a']}\n"
     ]
    }
   ],
   "source": [
    "def group_by_value(dictionary, result=None):\n",
    "    if result is None:\n",
    "        result = {}\n",
    "\n",
    "    if not dictionary:\n",
    "        return result\n",
    "\n",
    "    key, value = dictionary.popitem()\n",
    "\n",
    "    if value in result:\n",
    "        result[value].append(key)\n",
    "    else:\n",
    "        result[value] = [key]\n",
    "\n",
    "    return group_by_value(dictionary, result)\n",
    "\n",
    "# Example\n",
    "my_dict = {'a': 10, 'b': 20, 'c': 10, 'd': 30, 'e': 20}\n",
    "print(group_by_value(my_dict))\n",
    "# Output: {10: ['c', 'a'], 20: ['e', 'b'], 30: ['d']}\n"
   ]
  },
  {
   "cell_type": "code",
   "execution_count": 0,
   "metadata": {
    "application/vnd.databricks.v1+cell": {
     "cellMetadata": {
      "byteLimit": 2048000,
      "rowLimit": 10000
     },
     "inputWidgets": {},
     "nuid": "31bf9333-3f8b-448a-89dc-a201e67fd12b",
     "showTitle": false,
     "tableResultSettingsMap": {},
     "title": ""
    }
   },
   "outputs": [
    {
     "output_type": "stream",
     "name": "stdout",
     "output_type": "stream",
     "text": [
      "{10: ['a', 'c'], 20: ['b', 'e'], 30: ['d']}\n"
     ]
    }
   ],
   "source": [
    "def group_by_value(dictionary):\n",
    "    result = {}\n",
    "    keys = list(dictionary.keys())\n",
    "    values = list(dictionary.values())\n",
    "\n",
    "    for i in range(len(keys)):\n",
    "        key = keys[i]\n",
    "        value = values[i]\n",
    "\n",
    "        if value in result:\n",
    "            result[value].append(key)\n",
    "        else:\n",
    "            result[value] = [key]\n",
    "\n",
    "    return result\n",
    "\n",
    "# Example\n",
    "my_dict = {'a': 10, 'b': 20, 'c': 10, 'd': 30, 'e': 20}\n",
    "print(group_by_value(my_dict))\n",
    "# Output: {10: ['a', 'c'], 20: ['b', 'e'], 30: ['d']}\n"
   ]
  }
 ],
 "metadata": {
  "application/vnd.databricks.v1+notebook": {
   "dashboards": [],
   "environmentMetadata": null,
   "language": "python",
   "notebookMetadata": {
    "pythonIndentUnit": 4
   },
   "notebookName": "dictionary duplicate values append",
   "widgets": {}
  }
 },
 "nbformat": 4,
 "nbformat_minor": 0
}

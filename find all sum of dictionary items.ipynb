{
 "cells": [
  {
   "cell_type": "code",
   "execution_count": 0,
   "metadata": {
    "application/vnd.databricks.v1+cell": {
     "cellMetadata": {
      "byteLimit": 2048000,
      "rowLimit": 10000
     },
     "inputWidgets": {},
     "nuid": "d9a2813f-5650-42fd-ac92-d20fa069f38a",
     "showTitle": false,
     "tableResultSettingsMap": {},
     "title": ""
    }
   },
   "outputs": [
    {
     "output_type": "stream",
     "name": "stdout",
     "output_type": "stream",
     "text": [
      "60\n"
     ]
    }
   ],
   "source": [
    "def sum_dict_values(dictionary):\n",
    "    total = 0\n",
    "    for key in dictionary:\n",
    "        total += dictionary[key]\n",
    "    return total\n",
    "\n",
    "# Example\n",
    "my_dict = {'a': 10, 'b': 20, 'c': 30}\n",
    "print(sum_dict_values(my_dict))  # Output: 60\n"
   ]
  },
  {
   "cell_type": "code",
   "execution_count": 0,
   "metadata": {
    "application/vnd.databricks.v1+cell": {
     "cellMetadata": {
      "byteLimit": 2048000,
      "rowLimit": 10000
     },
     "inputWidgets": {},
     "nuid": "56a45a89-60c4-40a9-9bb9-ecebc36a6024",
     "showTitle": false,
     "tableResultSettingsMap": {},
     "title": ""
    }
   },
   "outputs": [
    {
     "output_type": "stream",
     "name": "stdout",
     "output_type": "stream",
     "text": [
      "60\n"
     ]
    }
   ],
   "source": [
    "def sum_dict_values(dictionary):\n",
    "    total = 0\n",
    "    for value in dictionary.values():\n",
    "        total += value\n",
    "    return total\n",
    "\n",
    "# Example\n",
    "my_dict = {'a': 10, 'b': 20, 'c': 30}\n",
    "print(sum_dict_values(my_dict))  # Output: 60\n"
   ]
  },
  {
   "cell_type": "code",
   "execution_count": 0,
   "metadata": {
    "application/vnd.databricks.v1+cell": {
     "cellMetadata": {
      "byteLimit": 2048000,
      "rowLimit": 10000
     },
     "inputWidgets": {},
     "nuid": "d1038bcd-089d-417b-8b01-7aaccd998097",
     "showTitle": false,
     "tableResultSettingsMap": {},
     "title": ""
    }
   },
   "outputs": [
    {
     "output_type": "stream",
     "name": "stdout",
     "output_type": "stream",
     "text": [
      "60\n"
     ]
    }
   ],
   "source": [
    "def sum_dict_values(dictionary):\n",
    "    total = 0\n",
    "    items = list(dictionary.items())  # Convert dictionary to a list of tuples (key, value)\n",
    "    for i in range(len(items)):\n",
    "        total += items[i][1]  # Access value through tuple indexing\n",
    "    return total\n",
    "\n",
    "# Example\n",
    "my_dict = {'a': 10, 'b': 20, 'c': 30}\n",
    "print(sum_dict_values(my_dict))  # Output: 60\n"
   ]
  },
  {
   "cell_type": "code",
   "execution_count": 0,
   "metadata": {
    "application/vnd.databricks.v1+cell": {
     "cellMetadata": {
      "byteLimit": 2048000,
      "rowLimit": 10000
     },
     "inputWidgets": {},
     "nuid": "f9a6ee77-52f8-4fa5-a81c-7002409733cc",
     "showTitle": false,
     "tableResultSettingsMap": {},
     "title": ""
    }
   },
   "outputs": [
    {
     "output_type": "stream",
     "name": "stdout",
     "output_type": "stream",
     "text": [
      "60\n"
     ]
    }
   ],
   "source": [
    "def sum_dict_values(dictionary):\n",
    "    total = 0\n",
    "    keys = list(dictionary.keys())  # Convert dictionary keys to list\n",
    "    index = 0\n",
    "    while index < len(keys):\n",
    "        total += dictionary[keys[index]]\n",
    "        index += 1\n",
    "    return total\n",
    "\n",
    "# Example\n",
    "my_dict = {'a': 10, 'b': 20, 'c': 30}\n",
    "print(sum_dict_values(my_dict))  # Output: 60\n"
   ]
  },
  {
   "cell_type": "code",
   "execution_count": 0,
   "metadata": {
    "application/vnd.databricks.v1+cell": {
     "cellMetadata": {
      "byteLimit": 2048000,
      "rowLimit": 10000
     },
     "inputWidgets": {},
     "nuid": "70d28ceb-5e1f-44fc-b02b-12a088137d85",
     "showTitle": false,
     "tableResultSettingsMap": {},
     "title": ""
    }
   },
   "outputs": [
    {
     "output_type": "stream",
     "name": "stdout",
     "output_type": "stream",
     "text": [
      "60\n"
     ]
    }
   ],
   "source": [
    "def sum_dict_values(dictionary):\n",
    "    total = 0\n",
    "    for key in dictionary:\n",
    "        total += dictionary[key]\n",
    "    return total\n",
    "\n",
    "# Example\n",
    "my_dict = {'a': 10, 'b': 20, 'c': 30}\n",
    "print(sum_dict_values(my_dict))  # Output: 60\n"
   ]
  },
  {
   "cell_type": "code",
   "execution_count": 0,
   "metadata": {
    "application/vnd.databricks.v1+cell": {
     "cellMetadata": {
      "byteLimit": 2048000,
      "rowLimit": 10000
     },
     "inputWidgets": {},
     "nuid": "0550319d-c40f-4f09-a997-2d15990beaee",
     "showTitle": false,
     "tableResultSettingsMap": {},
     "title": ""
    }
   },
   "outputs": [
    {
     "output_type": "stream",
     "name": "stdout",
     "output_type": "stream",
     "text": [
      "60\n"
     ]
    }
   ],
   "source": [
    "def sum_dict_values(dictionary):\n",
    "    total = 0\n",
    "    for key in dictionary:\n",
    "        total += dictionary[key]\n",
    "    return total\n",
    "\n",
    "# Example\n",
    "my_dict = {'a': 10, 'b': 20, 'c': 30}\n",
    "print(sum_dict_values(my_dict))  # Output: 60\n"
   ]
  },
  {
   "cell_type": "code",
   "execution_count": 0,
   "metadata": {
    "application/vnd.databricks.v1+cell": {
     "cellMetadata": {
      "byteLimit": 2048000,
      "rowLimit": 10000
     },
     "inputWidgets": {},
     "nuid": "56a10b36-970b-45c5-b113-501d2301faab",
     "showTitle": false,
     "tableResultSettingsMap": {},
     "title": ""
    }
   },
   "outputs": [
    {
     "output_type": "stream",
     "name": "stdout",
     "output_type": "stream",
     "text": [
      "60\n"
     ]
    }
   ],
   "source": [
    "def sum_dict_values(dictionary):\n",
    "    if not dictionary:\n",
    "        return 0\n",
    "    key, value = dictionary.popitem()\n",
    "    return value + sum_dict_values(dictionary)\n",
    "\n",
    "# Example\n",
    "my_dict = {'a': 10, 'b': 20, 'c': 30}\n",
    "print(sum_dict_values(my_dict))  # Output: 60\n"
   ]
  },
  {
   "cell_type": "code",
   "execution_count": 0,
   "metadata": {
    "application/vnd.databricks.v1+cell": {
     "cellMetadata": {
      "byteLimit": 2048000,
      "rowLimit": 10000
     },
     "inputWidgets": {},
     "nuid": "3cae5a9f-c401-492b-81a2-05622db3851e",
     "showTitle": false,
     "tableResultSettingsMap": {},
     "title": ""
    }
   },
   "outputs": [
    {
     "output_type": "stream",
     "name": "stdout",
     "output_type": "stream",
     "text": [
      "60\n"
     ]
    }
   ],
   "source": [
    "def sum_dict_values(dictionary):\n",
    "    total = 0\n",
    "    for value in (dictionary[key] for key in dictionary):\n",
    "        total += value\n",
    "    return total\n",
    "\n",
    "# Example\n",
    "my_dict = {'a': 10, 'b': 20, 'c': 30}\n",
    "print(sum_dict_values(my_dict))  # Output: 60\n"
   ]
  }
 ],
 "metadata": {
  "application/vnd.databricks.v1+notebook": {
   "dashboards": [],
   "environmentMetadata": null,
   "language": "python",
   "notebookMetadata": {
    "pythonIndentUnit": 4
   },
   "notebookName": "find all sum of dictionary items",
   "widgets": {}
  }
 },
 "nbformat": 4,
 "nbformat_minor": 0
}

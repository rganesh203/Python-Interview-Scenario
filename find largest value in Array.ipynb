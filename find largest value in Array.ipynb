{
 "cells": [
  {
   "cell_type": "code",
   "execution_count": 0,
   "metadata": {
    "application/vnd.databricks.v1+cell": {
     "cellMetadata": {
      "byteLimit": 2048000,
      "rowLimit": 10000
     },
     "inputWidgets": {},
     "nuid": "57f0bace-ec4e-4b50-9b23-11c6fb0ef9e8",
     "showTitle": false,
     "tableResultSettingsMap": {},
     "title": ""
    }
   },
   "outputs": [
    {
     "output_type": "stream",
     "name": "stdout",
     "output_type": "stream",
     "text": [
      "The largest value in the array is: 9\n"
     ]
    }
   ],
   "source": [
    "arr = [3, 1, 4, 1, 5, 9, 2]\n",
    "largest = max(arr)\n",
    "print(f\"The largest value in the array is: {largest}\")\n"
   ]
  },
  {
   "cell_type": "code",
   "execution_count": 0,
   "metadata": {
    "application/vnd.databricks.v1+cell": {
     "cellMetadata": {
      "byteLimit": 2048000,
      "rowLimit": 10000
     },
     "inputWidgets": {},
     "nuid": "8277acb9-7e68-4fcc-b9ae-6879633665c3",
     "showTitle": false,
     "tableResultSettingsMap": {},
     "title": ""
    }
   },
   "outputs": [
    {
     "output_type": "stream",
     "name": "stdout",
     "output_type": "stream",
     "text": [
      "The largest value in the array is: 9\n"
     ]
    }
   ],
   "source": [
    "arr = [3, 1, 4, 1, 5, 9, 2]\n",
    "largest = arr[0]\n",
    "for num in arr:\n",
    "    if num > largest:\n",
    "        largest = num\n",
    "print(f\"The largest value in the array is: {largest}\")"
   ]
  },
  {
   "cell_type": "code",
   "execution_count": 0,
   "metadata": {
    "application/vnd.databricks.v1+cell": {
     "cellMetadata": {
      "byteLimit": 2048000,
      "rowLimit": 10000
     },
     "inputWidgets": {},
     "nuid": "adc05235-5198-4f80-ab1d-210197072843",
     "showTitle": false,
     "tableResultSettingsMap": {},
     "title": ""
    }
   },
   "outputs": [
    {
     "output_type": "stream",
     "name": "stdout",
     "output_type": "stream",
     "text": [
      "The largest value in the array is: 9\n"
     ]
    }
   ],
   "source": [
    "from functools import reduce\n",
    "\n",
    "arr = [3, 1, 4, 1, 5, 9, 2]\n",
    "largest = reduce(lambda x, y: x if x > y else y, arr)\n",
    "print(f\"The largest value in the array is: {largest}\")"
   ]
  },
  {
   "cell_type": "code",
   "execution_count": 0,
   "metadata": {
    "application/vnd.databricks.v1+cell": {
     "cellMetadata": {
      "byteLimit": 2048000,
      "rowLimit": 10000
     },
     "inputWidgets": {},
     "nuid": "a49d8065-3340-4ead-ab7d-1546bf412198",
     "showTitle": false,
     "tableResultSettingsMap": {},
     "title": ""
    }
   },
   "outputs": [
    {
     "output_type": "stream",
     "name": "stdout",
     "output_type": "stream",
     "text": [
      "The largest value in the array is: 9\n"
     ]
    }
   ],
   "source": [
    "arr = [3, 1, 4, 1, 5, 9, 2]\n",
    "arr.sort()\n",
    "largest = arr[-1]\n",
    "print(f\"The largest value in the array is: {largest}\")\n"
   ]
  },
  {
   "cell_type": "code",
   "execution_count": 0,
   "metadata": {
    "application/vnd.databricks.v1+cell": {
     "cellMetadata": {
      "byteLimit": 2048000,
      "rowLimit": 10000
     },
     "inputWidgets": {},
     "nuid": "2735b863-4fc3-4875-9f47-da493bb6e3e7",
     "showTitle": false,
     "tableResultSettingsMap": {},
     "title": ""
    }
   },
   "outputs": [
    {
     "output_type": "stream",
     "name": "stdout",
     "output_type": "stream",
     "text": [
      "The largest value in the array is: 9\n"
     ]
    }
   ],
   "source": [
    "arr = [3, 1, 4, 1, 5, 9, 2]\n",
    "largest = max([num for num in arr])\n",
    "print(f\"The largest value in the array is: {largest}\")\n"
   ]
  },
  {
   "cell_type": "code",
   "execution_count": 0,
   "metadata": {
    "application/vnd.databricks.v1+cell": {
     "cellMetadata": {
      "byteLimit": 2048000,
      "rowLimit": 10000
     },
     "inputWidgets": {},
     "nuid": "f39f2010-ffa5-4aa4-b840-0737e8b3c30a",
     "showTitle": false,
     "tableResultSettingsMap": {},
     "title": ""
    }
   },
   "outputs": [
    {
     "output_type": "stream",
     "name": "stdout",
     "output_type": "stream",
     "text": [
      "The largest value in the array is: 9\n"
     ]
    }
   ],
   "source": [
    "arr = [3, 1, 4, 1, 5, 9, 2]\n",
    "largest = arr[0]\n",
    "i = 1\n",
    "while i < len(arr):\n",
    "    if arr[i] > largest:\n",
    "        largest = arr[i]\n",
    "    i += 1\n",
    "print(f\"The largest value in the array is: {largest}\")\n"
   ]
  },
  {
   "cell_type": "code",
   "execution_count": 0,
   "metadata": {
    "application/vnd.databricks.v1+cell": {
     "cellMetadata": {
      "byteLimit": 2048000,
      "rowLimit": 10000
     },
     "inputWidgets": {},
     "nuid": "2cbc574a-6804-4f44-b82b-4a35969c2e0f",
     "showTitle": false,
     "tableResultSettingsMap": {},
     "title": ""
    }
   },
   "outputs": [
    {
     "output_type": "stream",
     "name": "stdout",
     "output_type": "stream",
     "text": [
      "The largest value in the array is: 9\n"
     ]
    }
   ],
   "source": [
    "import numpy as np\n",
    "\n",
    "arr = np.array([3, 1, 4, 1, 5, 9, 2])\n",
    "largest = np.max(arr)\n",
    "print(f\"The largest value in the array is: {largest}\")\n"
   ]
  },
  {
   "cell_type": "code",
   "execution_count": 0,
   "metadata": {
    "application/vnd.databricks.v1+cell": {
     "cellMetadata": {
      "byteLimit": 2048000,
      "rowLimit": 10000
     },
     "inputWidgets": {},
     "nuid": "9a2256fb-6101-4e26-a86f-23909c984ec4",
     "showTitle": false,
     "tableResultSettingsMap": {},
     "title": ""
    }
   },
   "outputs": [
    {
     "output_type": "display_data",
     "data": {
      "text/plain": [
       "Enter array elements separated by spaces:  1 2 2 2 3 3 5 "
      ]
     },
     "metadata": {},
     "output_type": "display_data"
    },
    {
     "output_type": "stream",
     "name": "stdout",
     "output_type": "stream",
     "text": [
      "The largest value in the array is: 5\n"
     ]
    }
   ],
   "source": [
    "arr = list(map(int, input(\"Enter array elements separated by spaces: \").split()))\n",
    "largest = max(arr)\n",
    "print(f\"The largest value in the array is: {largest}\")"
   ]
  }
 ],
 "metadata": {
  "application/vnd.databricks.v1+notebook": {
   "dashboards": [],
   "environmentMetadata": null,
   "language": "python",
   "notebookMetadata": {
    "pythonIndentUnit": 4
   },
   "notebookName": "find largest value in Array",
   "widgets": {}
  }
 },
 "nbformat": 4,
 "nbformat_minor": 0
}

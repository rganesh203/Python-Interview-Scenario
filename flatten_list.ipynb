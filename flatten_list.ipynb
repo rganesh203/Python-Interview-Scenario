{
 "cells": [
  {
   "cell_type": "code",
   "execution_count": 0,
   "metadata": {
    "application/vnd.databricks.v1+cell": {
     "cellMetadata": {
      "byteLimit": 2048000,
      "rowLimit": 10000
     },
     "inputWidgets": {},
     "nuid": "875d3672-8587-4e1f-a313-f81a37786e56",
     "showTitle": false,
     "title": ""
    }
   },
   "outputs": [
    {
     "output_type": "stream",
     "name": "stdout",
     "output_type": "stream",
     "text": [
      "[1, 2, 3, 4, 5, 6, 9, 10, 11, 0, 23, 45, 78, 100, 90]\n"
     ]
    }
   ],
   "source": [
    "def flatten_list(input_list):\n",
    "    flat_list = []\n",
    "    for item in input_list:\n",
    "        if isinstance(item, list):        # Check if the item is a list\n",
    "            flat_list.extend(flatten_list(item))  # Recursively flatten the nested list\n",
    "        else:\n",
    "            flat_list.append(item)        # If it's not a list, add the item directly\n",
    "    return flat_list\n",
    "\n",
    "# Example usage:\n",
    "input_list = [1, 2, [3, 4, 5, 6], 9, 10, 11, 0, [23, 45, 78], [100, 90]]\n",
    "flattened = flatten_list(input_list)\n",
    "print(flattened)\n"
   ]
  }
 ],
 "metadata": {
  "application/vnd.databricks.v1+notebook": {
   "dashboards": [],
   "environmentMetadata": null,
   "language": "python",
   "notebookMetadata": {
    "pythonIndentUnit": 4
   },
   "notebookName": "𝗳𝗹𝗮𝘁𝘁𝗲𝗻 𝗮 𝗻𝗲𝘀𝘁𝗲𝗱 𝗹𝗶𝘀𝘁",
   "widgets": {}
  }
 },
 "nbformat": 4,
 "nbformat_minor": 0
}

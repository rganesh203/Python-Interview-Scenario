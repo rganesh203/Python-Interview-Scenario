{
 "cells": [
  {
   "cell_type": "code",
   "execution_count": 0,
   "metadata": {
    "application/vnd.databricks.v1+cell": {
     "cellMetadata": {
      "byteLimit": 2048000,
      "rowLimit": 10000
     },
     "inputWidgets": {},
     "nuid": "cdeff5c5-8ad1-45bd-a328-e55cc81fdae1",
     "showTitle": false,
     "tableResultSettingsMap": {},
     "title": ""
    }
   },
   "outputs": [
    {
     "output_type": "stream",
     "name": "stdout",
     "output_type": "stream",
     "text": [
      "Hello \n"
     ]
    }
   ],
   "source": [
    "def remove_value(string, value):\n",
    "    return string.replace(value, \"\")\n",
    "\n",
    "# Example\n",
    "print(remove_value(\"Hello World\", \"World\"))  # Output: \"Hello \"\n"
   ]
  },
  {
   "cell_type": "code",
   "execution_count": 0,
   "metadata": {
    "application/vnd.databricks.v1+cell": {
     "cellMetadata": {
      "byteLimit": 2048000,
      "rowLimit": 10000
     },
     "inputWidgets": {},
     "nuid": "38d0c267-e3c5-40fa-b38e-2ba8e07b4f1e",
     "showTitle": false,
     "tableResultSettingsMap": {},
     "title": ""
    }
   },
   "outputs": [
    {
     "output_type": "stream",
     "name": "stdout",
     "output_type": "stream",
     "text": [
      "Hello \n"
     ]
    }
   ],
   "source": [
    "import re\n",
    "\n",
    "def remove_value(string, value):\n",
    "    return re.sub(value, \"\", string, flags=re.IGNORECASE)\n",
    "\n",
    "# Example\n",
    "print(remove_value(\"Hello World\", \"world\"))  # Output: \"Hello \"\n"
   ]
  },
  {
   "cell_type": "code",
   "execution_count": 0,
   "metadata": {
    "application/vnd.databricks.v1+cell": {
     "cellMetadata": {
      "byteLimit": 2048000,
      "rowLimit": 10000
     },
     "inputWidgets": {},
     "nuid": "4d75d382-3468-4d5c-ba43-2d5063639696",
     "showTitle": false,
     "tableResultSettingsMap": {},
     "title": ""
    }
   },
   "outputs": [
    {
     "output_type": "stream",
     "name": "stdout",
     "output_type": "stream",
     "text": [
      "Hello\n"
     ]
    }
   ],
   "source": [
    "def remove_value(string, value):\n",
    "    return ' '.join(word for word in string.split() if word != value)\n",
    "\n",
    "# Example\n",
    "print(remove_value(\"Hello World World\", \"World\"))  # Output: \"Hello\"\n"
   ]
  },
  {
   "cell_type": "code",
   "execution_count": 0,
   "metadata": {
    "application/vnd.databricks.v1+cell": {
     "cellMetadata": {
      "byteLimit": 2048000,
      "rowLimit": 10000
     },
     "inputWidgets": {},
     "nuid": "2e91e68f-05cc-4cae-82a9-7147140b438d",
     "showTitle": false,
     "tableResultSettingsMap": {},
     "title": ""
    }
   },
   "outputs": [
    {
     "output_type": "stream",
     "name": "stdout",
     "output_type": "stream",
     "text": [
      "Hello    \n"
     ]
    }
   ],
   "source": [
    "def remove_value(string, value):\n",
    "    return ' '.join(string.split(value))\n",
    "\n",
    "# Example\n",
    "print(remove_value(\"Hello World World\", \"World\"))  # Output: \"Hello\"\n"
   ]
  },
  {
   "cell_type": "code",
   "execution_count": 0,
   "metadata": {
    "application/vnd.databricks.v1+cell": {
     "cellMetadata": {
      "byteLimit": 2048000,
      "rowLimit": 10000
     },
     "inputWidgets": {},
     "nuid": "77e98678-aa2e-4d83-bbd0-75288e558ca5",
     "showTitle": false,
     "tableResultSettingsMap": {},
     "title": ""
    }
   },
   "outputs": [
    {
     "output_type": "stream",
     "name": "stdout",
     "output_type": "stream",
     "text": [
      "Hello  !\n"
     ]
    }
   ],
   "source": [
    "def remove_multiple_values(string, values):\n",
    "    for value in values:\n",
    "        string = string.replace(value, \"\")\n",
    "    return string\n",
    "\n",
    "# Example\n",
    "print(remove_multiple_values(\"Hello World Python!\", [\"World\", \"Python\"]))  # Output: \"Hello !\"\n"
   ]
  },
  {
   "cell_type": "code",
   "execution_count": 0,
   "metadata": {
    "application/vnd.databricks.v1+cell": {
     "cellMetadata": {
      "byteLimit": 2048000,
      "rowLimit": 10000
     },
     "inputWidgets": {},
     "nuid": "b3704f21-174d-495e-84a7-a92eb9a00ad4",
     "showTitle": false,
     "tableResultSettingsMap": {},
     "title": ""
    }
   },
   "outputs": [
    {
     "output_type": "stream",
     "name": "stdout",
     "output_type": "stream",
     "text": [
      "Hello orld\n"
     ]
    }
   ],
   "source": [
    "def remove_by_index(string, index):\n",
    "    return string[:index] + string[index + 1:]\n",
    "\n",
    "# Example\n",
    "print(remove_by_index(\"Hello World\", 6))  # Output: \"Hello orld\"\n"
   ]
  },
  {
   "cell_type": "code",
   "execution_count": 0,
   "metadata": {
    "application/vnd.databricks.v1+cell": {
     "cellMetadata": {
      "byteLimit": 2048000,
      "rowLimit": 10000
     },
     "inputWidgets": {},
     "nuid": "b9ce50f2-ce3d-4fc6-b19c-89fa7458caa7",
     "showTitle": false,
     "tableResultSettingsMap": {},
     "title": ""
    }
   },
   "outputs": [
    {
     "output_type": "stream",
     "name": "stdout",
     "output_type": "stream",
     "text": [
      "Hello  World\nHello World \n"
     ]
    }
   ],
   "source": [
    "# Remove only the first occurrence\n",
    "def remove_first_occurrence(string, value):\n",
    "    return string.replace(value, \"\", 1)\n",
    "\n",
    "# Remove only the last occurrence\n",
    "def remove_last_occurrence(string, value):\n",
    "    return string[::-1].replace(value[::-1], \"\", 1)[::-1]\n",
    "\n",
    "# Example\n",
    "print(remove_first_occurrence(\"Hello World World\", \"World\"))  # Output: \"Hello World\"\n",
    "print(remove_last_occurrence(\"Hello World World\", \"World\"))  # Output: \"Hello World\"\n"
   ]
  }
 ],
 "metadata": {
  "application/vnd.databricks.v1+notebook": {
   "dashboards": [],
   "environmentMetadata": null,
   "language": "python",
   "notebookMetadata": {
    "pythonIndentUnit": 4
   },
   "notebookName": "how to remove value form string",
   "widgets": {}
  }
 },
 "nbformat": 4,
 "nbformat_minor": 0
}

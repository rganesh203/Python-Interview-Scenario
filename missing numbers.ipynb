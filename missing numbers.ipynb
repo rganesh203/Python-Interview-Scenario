{
 "cells": [
  {
   "cell_type": "code",
   "execution_count": 0,
   "metadata": {
    "application/vnd.databricks.v1+cell": {
     "cellMetadata": {
      "byteLimit": 2048000,
      "rowLimit": 10000
     },
     "inputWidgets": {},
     "nuid": "e0b9631c-c3b5-452e-8bbe-ef618278331f",
     "showTitle": false,
     "title": ""
    }
   },
   "outputs": [
    {
     "output_type": "stream",
     "name": "stdout",
     "output_type": "stream",
     "text": [
      "The missing numbers are: [8, 10, 11, 12, 13, 15]\n"
     ]
    }
   ],
   "source": [
    "def find_missing_numbers(lst):\n",
    "    # Find the minimum and maximum values in the list\n",
    "    min_val = min(lst)\n",
    "    max_val = max(lst)\n",
    "    \n",
    "    # Create a set of all numbers in the range from min_val to max_val\n",
    "    full_set = set(range(min_val, max_val + 1))\n",
    "    \n",
    "    # Create a set from the list\n",
    "    list_set = set(lst)\n",
    "    \n",
    "    # Find the missing numbers by subtracting list_set from full_set\n",
    "    missing_numbers = full_set - list_set\n",
    "    \n",
    "    return sorted(missing_numbers)\n",
    "\n",
    "# Example usage:\n",
    "l = [3, 1, 6, 2, 7, 5, 4, 9, 16, 14]\n",
    "missing_numbers = find_missing_numbers(l)\n",
    "print(\"The missing numbers are:\", missing_numbers)"
   ]
  }
 ],
 "metadata": {
  "application/vnd.databricks.v1+notebook": {
   "dashboards": [],
   "environmentMetadata": null,
   "language": "python",
   "notebookMetadata": {
    "pythonIndentUnit": 4
   },
   "notebookName": "𝗙𝗶𝗻𝗱 𝘁𝗵𝗲 𝗺𝗶𝘀𝘀𝗶𝗻𝗴 𝗻𝘂𝗺𝗯𝗲𝗿 𝗳𝗿𝗼𝗺 𝗮 𝗹𝗶𝘀𝘁",
   "widgets": {}
  }
 },
 "nbformat": 4,
 "nbformat_minor": 0
}

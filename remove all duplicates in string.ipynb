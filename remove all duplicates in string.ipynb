{
 "cells": [
  {
   "cell_type": "code",
   "execution_count": 0,
   "metadata": {
    "application/vnd.databricks.v1+cell": {
     "cellMetadata": {
      "byteLimit": 2048000,
      "rowLimit": 10000
     },
     "inputWidgets": {},
     "nuid": "996285b0-f123-4967-82d5-39d5770dbac1",
     "showTitle": false,
     "tableResultSettingsMap": {},
     "title": ""
    }
   },
   "outputs": [
    {
     "output_type": "stream",
     "name": "stdout",
     "output_type": "stream",
     "text": [
      "poain\nhe wrd\n"
     ]
    }
   ],
   "source": [
    "def remove_duplicates(string):\n",
    "    # Step 1: Count occurrences of each character\n",
    "    freq = {}\n",
    "    for char in string:\n",
    "        if char in freq:\n",
    "            freq[char] += 1\n",
    "        else:\n",
    "            freq[char] = 1\n",
    "\n",
    "    # Step 2: Keep only characters that appear once\n",
    "    result = \"\"\n",
    "    for char in string:\n",
    "        if freq[char] == 1:\n",
    "            result += char\n",
    "\n",
    "    return result\n",
    "\n",
    "# Example\n",
    "print(remove_duplicates(\"programming\"))  # Output: \"progamin\"\n",
    "print(remove_duplicates(\"hello world\"))  # Output: \"he wrd\"\n"
   ]
  },
  {
   "cell_type": "code",
   "execution_count": 0,
   "metadata": {
    "application/vnd.databricks.v1+cell": {
     "cellMetadata": {
      "byteLimit": 2048000,
      "rowLimit": 10000
     },
     "inputWidgets": {},
     "nuid": "bdba95e3-4fe4-4524-bbef-8fa9d62a322f",
     "showTitle": false,
     "tableResultSettingsMap": {},
     "title": ""
    }
   },
   "outputs": [
    {
     "output_type": "stream",
     "name": "stdout",
     "output_type": "stream",
     "text": [
      "poain\nhe wrd\n"
     ]
    }
   ],
   "source": [
    "def remove_duplicates(string):\n",
    "    result = \"\"\n",
    "    for i in range(len(string)):\n",
    "        count = 0\n",
    "        for j in range(len(string)):\n",
    "            if string[i] == string[j]:\n",
    "                count += 1\n",
    "        if count == 1:  # Keep the character if it appears only once\n",
    "            result += string[i]\n",
    "    return result\n",
    "\n",
    "# Example\n",
    "print(remove_duplicates(\"programming\"))  # Output: \"poain\"\n",
    "print(remove_duplicates(\"hello world\"))  # Output: \"he wrd\"\n"
   ]
  },
  {
   "cell_type": "code",
   "execution_count": 0,
   "metadata": {
    "application/vnd.databricks.v1+cell": {
     "cellMetadata": {
      "byteLimit": 2048000,
      "rowLimit": 10000
     },
     "inputWidgets": {},
     "nuid": "9d15dada-0bae-4cfa-b005-0615414665e2",
     "showTitle": false,
     "tableResultSettingsMap": {},
     "title": ""
    }
   },
   "outputs": [
    {
     "output_type": "stream",
     "name": "stdout",
     "output_type": "stream",
     "text": [
      "poain\nhe wrd\n"
     ]
    }
   ],
   "source": [
    "def remove_duplicates(string):\n",
    "    keys = []  # List to store characters\n",
    "    values = []  # List to store frequencies\n",
    "\n",
    "    # Count frequencies\n",
    "    for char in string:\n",
    "        if char in keys:\n",
    "            index = keys.index(char)\n",
    "            values[index] += 1\n",
    "        else:\n",
    "            keys.append(char)\n",
    "            values.append(1)\n",
    "\n",
    "    # Build result string\n",
    "    result = \"\"\n",
    "    for i in range(len(keys)):\n",
    "        if values[i] == 1:  # Keep only unique characters\n",
    "            result += keys[i]\n",
    "\n",
    "    return result\n",
    "\n",
    "# Example\n",
    "print(remove_duplicates(\"programming\"))  # Output: \"poain\"\n",
    "print(remove_duplicates(\"hello world\"))  # Output: \"he wrd\"\n"
   ]
  },
  {
   "cell_type": "code",
   "execution_count": 0,
   "metadata": {
    "application/vnd.databricks.v1+cell": {
     "cellMetadata": {
      "byteLimit": 2048000,
      "rowLimit": 10000
     },
     "inputWidgets": {},
     "nuid": "b99692f7-c009-44df-99b2-4933fc0673cf",
     "showTitle": false,
     "tableResultSettingsMap": {},
     "title": ""
    }
   },
   "outputs": [
    {
     "output_type": "stream",
     "name": "stdout",
     "output_type": "stream",
     "text": [
      "poain\nhe wrd\n"
     ]
    }
   ],
   "source": [
    "def remove_duplicates(string, freq=None, index=0, result=\"\"):\n",
    "    if freq is None:\n",
    "        freq = {}\n",
    "\n",
    "    # Base case\n",
    "    if index == len(string):\n",
    "        for char in string:\n",
    "            if freq[char] == 1:  # Append only non-repeating characters\n",
    "                result += char\n",
    "        return result\n",
    "\n",
    "    # Count character frequency\n",
    "    char = string[index]\n",
    "    if char in freq:\n",
    "        freq[char] += 1\n",
    "    else:\n",
    "        freq[char] = 1\n",
    "\n",
    "    return remove_duplicates(string, freq, index + 1, result)\n",
    "\n",
    "# Example\n",
    "print(remove_duplicates(\"programming\"))  # Output: \"poain\"\n",
    "print(remove_duplicates(\"hello world\"))  # Output: \"he wrd\"\n"
   ]
  },
  {
   "cell_type": "code",
   "execution_count": 0,
   "metadata": {
    "application/vnd.databricks.v1+cell": {
     "cellMetadata": {
      "byteLimit": 2048000,
      "rowLimit": 10000
     },
     "inputWidgets": {},
     "nuid": "19bb2bd4-3b00-48c7-92a2-604f056bca26",
     "showTitle": false,
     "tableResultSettingsMap": {},
     "title": ""
    }
   },
   "outputs": [
    {
     "output_type": "stream",
     "name": "stdout",
     "output_type": "stream",
     "text": [
      "poain\nhe wrd\n"
     ]
    }
   ],
   "source": [
    "def remove_duplicates(string):\n",
    "    encountered = []\n",
    "    unique = []\n",
    "\n",
    "    for char in string:\n",
    "        if char not in encountered:\n",
    "            encountered.append(char)\n",
    "            unique.append(char)\n",
    "        else:\n",
    "            if char in unique:\n",
    "                unique.remove(char)  # Remove if it becomes a duplicate\n",
    "\n",
    "    # Join the unique characters\n",
    "    result = \"\"\n",
    "    for char in unique:\n",
    "        result += char\n",
    "\n",
    "    return result\n",
    "\n",
    "# Example\n",
    "print(remove_duplicates(\"programming\"))  # Output: \"poain\"\n",
    "print(remove_duplicates(\"hello world\"))  # Output: \"he wrd\"\n"
   ]
  },
  {
   "cell_type": "code",
   "execution_count": 0,
   "metadata": {
    "application/vnd.databricks.v1+cell": {
     "cellMetadata": {
      "byteLimit": 2048000,
      "rowLimit": 10000
     },
     "inputWidgets": {},
     "nuid": "b559a2f9-b771-4d5a-9dc4-c8da6ed1cade",
     "showTitle": false,
     "tableResultSettingsMap": {},
     "title": ""
    }
   },
   "outputs": [
    {
     "output_type": "stream",
     "name": "stdout",
     "output_type": "stream",
     "text": [
      "ainop\n dehrw\n"
     ]
    }
   ],
   "source": [
    "def remove_duplicates(string):\n",
    "    # Convert to list and sort manually\n",
    "    sorted_string = list(string)\n",
    "    for i in range(len(sorted_string)):\n",
    "        for j in range(len(sorted_string) - i - 1):\n",
    "            if sorted_string[j] > sorted_string[j + 1]:\n",
    "                sorted_string[j], sorted_string[j + 1] = sorted_string[j + 1], sorted_string[j]\n",
    "\n",
    "    # Remove duplicates\n",
    "    result = \"\"\n",
    "    i = 0\n",
    "    while i < len(sorted_string):\n",
    "        char = sorted_string[i]\n",
    "        count = 0\n",
    "        while i < len(sorted_string) and sorted_string[i] == char:\n",
    "            count += 1\n",
    "            i += 1\n",
    "        if count == 1:  # Keep only if it appears once\n",
    "            result += char\n",
    "\n",
    "    return result\n",
    "\n",
    "# Example\n",
    "print(remove_duplicates(\"programming\"))  # Output: \"ainop\"\n",
    "print(remove_duplicates(\"hello world\"))  # Output: \" dehlorw\"\n"
   ]
  },
  {
   "cell_type": "code",
   "execution_count": 0,
   "metadata": {
    "application/vnd.databricks.v1+cell": {
     "cellMetadata": {
      "byteLimit": 2048000,
      "rowLimit": 10000
     },
     "inputWidgets": {},
     "nuid": "f57daba0-87b0-4c45-ab90-78616da03033",
     "showTitle": false,
     "tableResultSettingsMap": {},
     "title": ""
    }
   },
   "outputs": [
    {
     "output_type": "stream",
     "name": "stdout",
     "output_type": "stream",
     "text": [
      "poain\nhe wrd\n"
     ]
    }
   ],
   "source": [
    "def remove_duplicates(string):\n",
    "    freq = [0] * 256  # Array to track character frequencies\n",
    "    for char in string:\n",
    "        freq[ord(char)] += 1  # Increment the frequency of the character\n",
    "\n",
    "    # Build result\n",
    "    result = \"\"\n",
    "    for char in string:\n",
    "        if freq[ord(char)] == 1:  # Add to result if the character appears only once\n",
    "            result += char\n",
    "\n",
    "    return result\n",
    "\n",
    "# Example\n",
    "print(remove_duplicates(\"programming\"))  # Output: \"poain\"\n",
    "print(remove_duplicates(\"hello world\"))  # Output: \"he wrd\"\n"
   ]
  },
  {
   "cell_type": "code",
   "execution_count": 0,
   "metadata": {
    "application/vnd.databricks.v1+cell": {
     "cellMetadata": {
      "byteLimit": 2048000,
      "rowLimit": 10000
     },
     "inputWidgets": {},
     "nuid": "250ec26e-3084-4da2-b45e-0e1e64a1009b",
     "showTitle": false,
     "tableResultSettingsMap": {},
     "title": ""
    }
   },
   "outputs": [
    {
     "output_type": "stream",
     "name": "stdout",
     "output_type": "stream",
     "text": [
      "poain\nhe wrd\n"
     ]
    }
   ],
   "source": [
    "def remove_duplicates(string):\n",
    "    freq = [0] * 256  # Array to track character frequencies\n",
    "    for char in string:\n",
    "        freq[ord(char)] += 1  # Increment the frequency of the character\n",
    "\n",
    "    # Build result\n",
    "    result = \"\"\n",
    "    for char in string:\n",
    "        if freq[ord(char)] == 1:  # Add to result if the character appears only once\n",
    "            result += char\n",
    "\n",
    "    return result\n",
    "\n",
    "# Example\n",
    "print(remove_duplicates(\"programming\"))  # Output: \"poain\"\n",
    "print(remove_duplicates(\"hello world\"))  # Output: \"he wrd\"\n"
   ]
  },
  {
   "cell_type": "code",
   "execution_count": 0,
   "metadata": {
    "application/vnd.databricks.v1+cell": {
     "cellMetadata": {
      "byteLimit": 2048000,
      "rowLimit": 10000
     },
     "inputWidgets": {},
     "nuid": "161c698d-7469-4202-8f23-361d9de2dea1",
     "showTitle": false,
     "tableResultSettingsMap": {},
     "title": ""
    }
   },
   "outputs": [
    {
     "output_type": "stream",
     "name": "stdout",
     "output_type": "stream",
     "text": [
      "poain\nhe wrd\n"
     ]
    }
   ],
   "source": [
    "def remove_duplicates(string):\n",
    "    keys = []  # List to store characters\n",
    "    values = []  # List to store frequencies\n",
    "\n",
    "    # Count frequencies\n",
    "    for char in string:\n",
    "        if char in keys:\n",
    "            index = keys.index(char)\n",
    "            values[index] += 1\n",
    "        else:\n",
    "            keys.append(char)\n",
    "            values.append(1)\n",
    "\n",
    "    # Build result string\n",
    "    result = \"\"\n",
    "    for i in range(len(keys)):\n",
    "        if values[i] == 1:  # Keep only unique characters\n",
    "            result += keys[i]\n",
    "\n",
    "    return result\n",
    "\n",
    "# Example\n",
    "print(remove_duplicates(\"programming\"))  # Output: \"poain\"\n",
    "print(remove_duplicates(\"hello world\"))  # Output: \"he wrd\"\n"
   ]
  }
 ],
 "metadata": {
  "application/vnd.databricks.v1+notebook": {
   "dashboards": [],
   "environmentMetadata": null,
   "language": "python",
   "notebookMetadata": {
    "pythonIndentUnit": 4
   },
   "notebookName": "remove all duplicates in string",
   "widgets": {}
  }
 },
 "nbformat": 4,
 "nbformat_minor": 0
}

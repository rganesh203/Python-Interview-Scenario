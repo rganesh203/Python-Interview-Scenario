{
 "cells": [
  {
   "cell_type": "code",
   "execution_count": 0,
   "metadata": {
    "application/vnd.databricks.v1+cell": {
     "cellMetadata": {
      "byteLimit": 2048000,
      "rowLimit": 10000
     },
     "inputWidgets": {},
     "nuid": "6d30c847-cf91-4f23-ab82-7b5c59a6c2d1",
     "showTitle": false,
     "tableResultSettingsMap": {},
     "title": ""
    }
   },
   "outputs": [
    {
     "output_type": "stream",
     "name": "stdout",
     "output_type": "stream",
     "text": [
      "World Hello\n"
     ]
    }
   ],
   "source": [
    "def reverse_words(sentence):\n",
    "    return ' '.join(sentence.split()[::-1])\n",
    "\n",
    "# Example\n",
    "print(reverse_words(\"Hello World\"))  # Output: \"World Hello\"\n"
   ]
  },
  {
   "cell_type": "code",
   "execution_count": 0,
   "metadata": {
    "application/vnd.databricks.v1+cell": {
     "cellMetadata": {
      "byteLimit": 2048000,
      "rowLimit": 10000
     },
     "inputWidgets": {},
     "nuid": "074911ba-cadb-40f2-b24b-e1c963a0de4f",
     "showTitle": false,
     "tableResultSettingsMap": {},
     "title": ""
    }
   },
   "outputs": [
    {
     "output_type": "stream",
     "name": "stdout",
     "output_type": "stream",
     "text": [
      "World Hello\n"
     ]
    }
   ],
   "source": [
    "def reverse_words(sentence):\n",
    "    words = sentence.split()\n",
    "    reversed_sentence = \"\"\n",
    "    for word in reversed(words):\n",
    "        reversed_sentence += word + \" \"\n",
    "    return reversed_sentence.strip()\n",
    "\n",
    "# Example\n",
    "print(reverse_words(\"Hello World\"))  # Output: \"World Hello\"\n"
   ]
  },
  {
   "cell_type": "code",
   "execution_count": 0,
   "metadata": {
    "application/vnd.databricks.v1+cell": {
     "cellMetadata": {
      "byteLimit": 2048000,
      "rowLimit": 10000
     },
     "inputWidgets": {},
     "nuid": "244f8069-2dc0-4ddd-8ee9-7ed61e44b334",
     "showTitle": false,
     "tableResultSettingsMap": {},
     "title": ""
    }
   },
   "outputs": [
    {
     "output_type": "stream",
     "name": "stdout",
     "output_type": "stream",
     "text": [
      "World Hello\n"
     ]
    }
   ],
   "source": [
    "def reverse_words(sentence):\n",
    "    return ' '.join([word for word in sentence.split()[::-1]])\n",
    "\n",
    "# Example\n",
    "print(reverse_words(\"Hello World\"))  # Output: \"World Hello\""
   ]
  },
  {
   "cell_type": "code",
   "execution_count": 0,
   "metadata": {
    "application/vnd.databricks.v1+cell": {
     "cellMetadata": {
      "byteLimit": 2048000,
      "rowLimit": 10000
     },
     "inputWidgets": {},
     "nuid": "b6167fa6-1a5d-4ea3-8546-0fc0f49b4db8",
     "showTitle": false,
     "tableResultSettingsMap": {},
     "title": ""
    }
   },
   "outputs": [
    {
     "output_type": "stream",
     "name": "stdout",
     "output_type": "stream",
     "text": [
      "World Hello\n"
     ]
    }
   ],
   "source": [
    "def reverse_words(sentence):\n",
    "    words = []\n",
    "    word = \"\"\n",
    "    for char in sentence:\n",
    "        if char == \" \":\n",
    "            words.append(word)\n",
    "            word = \"\"\n",
    "        else:\n",
    "            word += char\n",
    "    words.append(word)  # Add the last word\n",
    "    reversed_sentence = \"\"\n",
    "    for i in range(len(words) - 1, -1, -1):\n",
    "        reversed_sentence += words[i] + \" \"\n",
    "    return reversed_sentence.strip()\n",
    "\n",
    "# Example\n",
    "print(reverse_words(\"Hello World\"))  # Output: \"World Hello\"\n"
   ]
  },
  {
   "cell_type": "code",
   "execution_count": 0,
   "metadata": {
    "application/vnd.databricks.v1+cell": {
     "cellMetadata": {
      "byteLimit": 2048000,
      "rowLimit": 10000
     },
     "inputWidgets": {},
     "nuid": "68cac362-04b3-4dad-b4eb-625c143b4f7e",
     "showTitle": false,
     "tableResultSettingsMap": {},
     "title": ""
    }
   },
   "outputs": [
    {
     "output_type": "stream",
     "name": "stdout",
     "output_type": "stream",
     "text": [
      "World Hello\n"
     ]
    }
   ],
   "source": [
    "def reverse_words(sentence):\n",
    "    stack = sentence.split()\n",
    "    reversed_sentence = \"\"\n",
    "    while stack:\n",
    "        reversed_sentence += stack.pop() + \" \"\n",
    "    return reversed_sentence.strip()\n",
    "\n",
    "# Example\n",
    "print(reverse_words(\"Hello World\"))  # Output: \"World Hello\"\n"
   ]
  },
  {
   "cell_type": "code",
   "execution_count": 0,
   "metadata": {
    "application/vnd.databricks.v1+cell": {
     "cellMetadata": {
      "byteLimit": 2048000,
      "rowLimit": 10000
     },
     "inputWidgets": {},
     "nuid": "a8c5fb44-fefd-4064-9f00-5e119740bab8",
     "showTitle": false,
     "tableResultSettingsMap": {},
     "title": ""
    }
   },
   "outputs": [
    {
     "output_type": "stream",
     "name": "stdout",
     "output_type": "stream",
     "text": [
      "World Hello \n"
     ]
    }
   ],
   "source": [
    "def reverse_words(sentence):\n",
    "    words = sentence.split()\n",
    "    if len(words) == 0:\n",
    "        return \"\"\n",
    "    return words[-1] + \" \" + reverse_words(\" \".join(words[:-1]))\n",
    "\n",
    "# Example\n",
    "print(reverse_words(\"Hello World\"))  # Output: \"World Hello\"\n"
   ]
  }
 ],
 "metadata": {
  "application/vnd.databricks.v1+notebook": {
   "dashboards": [],
   "environmentMetadata": null,
   "language": "python",
   "notebookMetadata": {
    "pythonIndentUnit": 4
   },
   "notebookName": "reverse words",
   "widgets": {}
  }
 },
 "nbformat": 4,
 "nbformat_minor": 0
}

{
 "cells": [
  {
   "cell_type": "code",
   "execution_count": 0,
   "metadata": {
    "application/vnd.databricks.v1+cell": {
     "cellMetadata": {
      "byteLimit": 2048000,
      "rowLimit": 10000
     },
     "inputWidgets": {},
     "nuid": "7f25badc-bbd6-48e0-a785-f245f8dc33c8",
     "showTitle": false,
     "tableResultSettingsMap": {},
     "title": ""
    }
   },
   "outputs": [
    {
     "output_type": "stream",
     "name": "stdout",
     "output_type": "stream",
     "text": [
      "55\n"
     ]
    }
   ],
   "source": [
    "def sum_of_squares_iterative(n):\n",
    "    total = 0\n",
    "    for i in range(1, n + 1):\n",
    "        total += i**2\n",
    "    return total\n",
    "\n",
    "# Example usage:\n",
    "print(sum_of_squares_iterative(5))  # Output: 55"
   ]
  },
  {
   "cell_type": "code",
   "execution_count": 0,
   "metadata": {
    "application/vnd.databricks.v1+cell": {
     "cellMetadata": {
      "byteLimit": 2048000,
      "rowLimit": 10000
     },
     "inputWidgets": {},
     "nuid": "70ed1880-24a1-4cf0-9d47-1d20faeeb2ec",
     "showTitle": false,
     "tableResultSettingsMap": {},
     "title": ""
    }
   },
   "outputs": [
    {
     "output_type": "stream",
     "name": "stdout",
     "output_type": "stream",
     "text": [
      "55\n"
     ]
    }
   ],
   "source": [
    "def sum_of_squares_comprehension(n):\n",
    "    return sum(i**2 for i in range(1, n + 1))\n",
    "\n",
    "# Example usage:\n",
    "print(sum_of_squares_comprehension(5))  # Output: 55\n"
   ]
  },
  {
   "cell_type": "code",
   "execution_count": 0,
   "metadata": {
    "application/vnd.databricks.v1+cell": {
     "cellMetadata": {
      "byteLimit": 2048000,
      "rowLimit": 10000
     },
     "inputWidgets": {},
     "nuid": "f1e86a0e-c368-43a7-9471-34bdd1dc83c6",
     "showTitle": false,
     "tableResultSettingsMap": {},
     "title": ""
    }
   },
   "outputs": [
    {
     "output_type": "stream",
     "name": "stdout",
     "output_type": "stream",
     "text": [
      "55\n"
     ]
    }
   ],
   "source": [
    "def sum_of_squares_functional(n):\n",
    "    return sum(map(lambda x: x**2, range(1, n + 1)))\n",
    "\n",
    "# Example usage:\n",
    "print(sum_of_squares_functional(5))  # Output: 55\n"
   ]
  },
  {
   "cell_type": "code",
   "execution_count": 0,
   "metadata": {
    "application/vnd.databricks.v1+cell": {
     "cellMetadata": {
      "byteLimit": 2048000,
      "rowLimit": 10000
     },
     "inputWidgets": {},
     "nuid": "9e1b64a1-882e-4eca-b2e4-425560c40e51",
     "showTitle": false,
     "tableResultSettingsMap": {},
     "title": ""
    }
   },
   "outputs": [
    {
     "output_type": "display_data",
     "data": {
      "text/plain": [
       "Enter a number:  5"
      ]
     },
     "metadata": {},
     "output_type": "display_data"
    },
    {
     "output_type": "stream",
     "name": "stdout",
     "output_type": "stream",
     "text": [
      "Sum of squares of first 5 natural numbers: 55\n"
     ]
    }
   ],
   "source": [
    "def sum_of_squares_iterative(n):\n",
    "    total = 0\n",
    "    for i in range(1, n + 1):\n",
    "        total += i**2\n",
    "    return total\n",
    "\n",
    "# Taking user input\n",
    "n = int(input(\"Enter a number: \"))\n",
    "print(f\"Sum of squares of first {n} natural numbers: {sum_of_squares_iterative(n)}\")"
   ]
  },
  {
   "cell_type": "code",
   "execution_count": 0,
   "metadata": {
    "application/vnd.databricks.v1+cell": {
     "cellMetadata": {
      "byteLimit": 2048000,
      "rowLimit": 10000
     },
     "inputWidgets": {},
     "nuid": "896bb96a-3d50-4df0-b02b-e07a2a85fa1b",
     "showTitle": false,
     "tableResultSettingsMap": {},
     "title": ""
    }
   },
   "outputs": [
    {
     "output_type": "display_data",
     "data": {
      "text/plain": [
       "Enter a number:  6"
      ]
     },
     "metadata": {},
     "output_type": "display_data"
    },
    {
     "output_type": "stream",
     "name": "stdout",
     "output_type": "stream",
     "text": [
      "Sum of squares of first 6 natural numbers: 91\n"
     ]
    }
   ],
   "source": [
    "def sum_of_squares_formula(n):\n",
    "    return n * (n + 1) * (2 * n + 1) // 6\n",
    "\n",
    "# Taking user input\n",
    "n = int(input(\"Enter a number: \"))\n",
    "print(f\"Sum of squares of first {n} natural numbers: {sum_of_squares_formula(n)}\")"
   ]
  }
 ],
 "metadata": {
  "application/vnd.databricks.v1+notebook": {
   "dashboards": [],
   "environmentMetadata": null,
   "language": "python",
   "notebookMetadata": {
    "pythonIndentUnit": 4
   },
   "notebookName": "sum of square first n natural numbers",
   "widgets": {}
  }
 },
 "nbformat": 4,
 "nbformat_minor": 0
}

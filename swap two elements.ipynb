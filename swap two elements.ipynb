{
 "cells": [
  {
   "cell_type": "code",
   "execution_count": 0,
   "metadata": {
    "application/vnd.databricks.v1+cell": {
     "cellMetadata": {
      "byteLimit": 2048000,
      "rowLimit": 10000
     },
     "inputWidgets": {},
     "nuid": "fe8bf2e4-d7cc-412b-b7e8-1281171d4280",
     "showTitle": false,
     "tableResultSettingsMap": {},
     "title": ""
    }
   },
   "outputs": [
    {
     "output_type": "stream",
     "name": "stdout",
     "output_type": "stream",
     "text": [
      "Original array: [1, 2, 3, 4, 5]\nArray after swapping: [1, 4, 3, 2, 5]\n"
     ]
    }
   ],
   "source": [
    "def swap_elements(arr, index1, index2):\n",
    "    arr[index1], arr[index2] = arr[index2], arr[index1]\n",
    "    return arr\n",
    "\n",
    "# Example usage:\n",
    "arr = [1, 2, 3, 4, 5]\n",
    "index1 = 1  # Second element\n",
    "index2 = 3  # Fourth element\n",
    "print(f\"Original array: {arr}\")\n",
    "print(f\"Array after swapping: {swap_elements(arr, index1, index2)}\")\n"
   ]
  },
  {
   "cell_type": "code",
   "execution_count": 0,
   "metadata": {
    "application/vnd.databricks.v1+cell": {
     "cellMetadata": {
      "byteLimit": 2048000,
      "rowLimit": 10000
     },
     "inputWidgets": {},
     "nuid": "249c42f9-2f6c-4f08-b9fc-32600673b831",
     "showTitle": false,
     "tableResultSettingsMap": {},
     "title": ""
    }
   },
   "outputs": [
    {
     "output_type": "stream",
     "name": "stdout",
     "output_type": "stream",
     "text": [
      "Original array: [1, 2, 3, 4, 5]\nArray after swapping: [1, 4, 3, 2, 5]\n"
     ]
    }
   ],
   "source": [
    "def swap_elements(arr, index1, index2):\n",
    "    temp = arr[index1]\n",
    "    arr[index1] = arr[index2]\n",
    "    arr[index2] = temp\n",
    "    return arr\n",
    "\n",
    "# Example usage:\n",
    "arr = [1, 2, 3, 4, 5]\n",
    "index1 = 1  # Second element\n",
    "index2 = 3  # Fourth element\n",
    "print(f\"Original array: {arr}\")\n",
    "print(f\"Array after swapping: {swap_elements(arr, index1, index2)}\")\n"
   ]
  },
  {
   "cell_type": "code",
   "execution_count": 0,
   "metadata": {
    "application/vnd.databricks.v1+cell": {
     "cellMetadata": {
      "byteLimit": 2048000,
      "rowLimit": 10000
     },
     "inputWidgets": {},
     "nuid": "de1ff539-fa83-420f-9218-6be5d6769471",
     "showTitle": false,
     "tableResultSettingsMap": {},
     "title": ""
    }
   },
   "outputs": [
    {
     "output_type": "stream",
     "name": "stdout",
     "output_type": "stream",
     "text": [
      "Original array: [1, 2, 3, 4, 5]\nArray after swapping: [1, 4, 3, 2, 5]\n"
     ]
    }
   ],
   "source": [
    "def swap_elements(arr, index1, index2):\n",
    "    arr[index1] = arr[index1] ^ arr[index2]\n",
    "    arr[index2] = arr[index1] ^ arr[index2]\n",
    "    arr[index1] = arr[index1] ^ arr[index2]\n",
    "    return arr\n",
    "\n",
    "# Example usage:\n",
    "arr = [1, 2, 3, 4, 5]\n",
    "index1 = 1  # Second element\n",
    "index2 = 3  # Fourth element\n",
    "print(f\"Original array: {arr}\")\n",
    "print(f\"Array after swapping: {swap_elements(arr, index1, index2)}\")\n"
   ]
  },
  {
   "cell_type": "code",
   "execution_count": 0,
   "metadata": {
    "application/vnd.databricks.v1+cell": {
     "cellMetadata": {
      "byteLimit": 2048000,
      "rowLimit": 10000
     },
     "inputWidgets": {},
     "nuid": "2395bba5-6079-4f53-b603-18c24c7d3390",
     "showTitle": false,
     "tableResultSettingsMap": {},
     "title": ""
    }
   },
   "outputs": [
    {
     "output_type": "stream",
     "name": "stdout",
     "output_type": "stream",
     "text": [
      "Original array: ['apple', 'banana', 'cherry', 'date']\nArray after swapping: ['cherry', 'banana', 'apple', 'date']\n"
     ]
    }
   ],
   "source": [
    "def swap_elements(arr, index1, index2):\n",
    "    arr[index1], arr[index2] = arr[index2], arr[index1]\n",
    "    return arr\n",
    "\n",
    "# Example usage:\n",
    "arr = ['apple', 'banana', 'cherry', 'date']\n",
    "index1 = 0  # 'apple'\n",
    "index2 = 2  # 'cherry'\n",
    "print(f\"Original array: {arr}\")\n",
    "print(f\"Array after swapping: {swap_elements(arr, index1, index2)}\")\n"
   ]
  },
  {
   "cell_type": "code",
   "execution_count": 0,
   "metadata": {
    "application/vnd.databricks.v1+cell": {
     "cellMetadata": {
      "byteLimit": 2048000,
      "rowLimit": 10000
     },
     "inputWidgets": {},
     "nuid": "d65d948f-4b3e-4a77-868a-c8449d2c1673",
     "showTitle": false,
     "tableResultSettingsMap": {},
     "title": ""
    }
   },
   "outputs": [
    {
     "output_type": "stream",
     "name": "stdout",
     "output_type": "stream",
     "text": [
      "Original array: [1, 2, 3, 4, 5]\nArray after swapping: Invalid indices\n"
     ]
    }
   ],
   "source": [
    "def swap_elements(arr, index1, index2):\n",
    "    if index1 < len(arr) and index2 < len(arr):\n",
    "        arr[index1], arr[index2] = arr[index2], arr[index1]\n",
    "    else:\n",
    "        return \"Invalid indices\"\n",
    "    return arr\n",
    "\n",
    "# Example usage:\n",
    "arr = [1, 2, 3, 4, 5]\n",
    "index1 = 1  # Second element\n",
    "index2 = 5  # Invalid index (out of bounds)\n",
    "print(f\"Original array: {arr}\")\n",
    "print(f\"Array after swapping: {swap_elements(arr, index1, index2)}\")"
   ]
  }
 ],
 "metadata": {
  "application/vnd.databricks.v1+notebook": {
   "dashboards": [],
   "environmentMetadata": null,
   "language": "python",
   "notebookMetadata": {
    "pythonIndentUnit": 4
   },
   "notebookName": "swap two elements",
   "widgets": {}
  }
 },
 "nbformat": 4,
 "nbformat_minor": 0
}

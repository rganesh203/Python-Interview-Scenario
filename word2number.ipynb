{
 "cells": [
  {
   "cell_type": "code",
   "execution_count": 0,
   "metadata": {
    "application/vnd.databricks.v1+cell": {
     "cellMetadata": {
      "byteLimit": 2048000,
      "rowLimit": 10000
     },
     "inputWidgets": {},
     "nuid": "75a4e217-d15d-48c2-8e5a-1cbdb26de2d3",
     "showTitle": false,
     "tableResultSettingsMap": {},
     "title": ""
    }
   },
   "outputs": [
    {
     "output_type": "stream",
     "name": "stdout",
     "output_type": "stream",
     "text": [
      "500,000,000\n"
     ]
    }
   ],
   "source": [
    "def words_to_number(word):\n",
    "    word = word.lower()\n",
    "    num_dict = {\n",
    "        \"one\": 1, \"two\": 2, \"three\": 3, \"four\": 4, \"five\": 5,\n",
    "        \"six\": 6, \"seven\": 7, \"eight\": 8, \"nine\": 9, \"ten\": 10,\n",
    "        \"hundred\": 100, \"thousand\": 1_000, \"million\": 1_000_000\n",
    "    }\n",
    "    \n",
    "    parts = word.split()\n",
    "    number = 0\n",
    "    temp = 0\n",
    "    \n",
    "    for part in parts:\n",
    "        if part in num_dict:\n",
    "            if part == \"hundred\":\n",
    "                temp *= num_dict[part]\n",
    "            elif part == \"thousand\" or part == \"million\":\n",
    "                temp *= num_dict[part]\n",
    "                number += temp\n",
    "                temp = 0\n",
    "            else:\n",
    "                temp += num_dict[part]\n",
    "    \n",
    "    return number + temp\n",
    "\n",
    "input_text = \"five hundred million\"\n",
    "output_number = words_to_number(input_text)\n",
    "\n",
    "# Format the number with commas\n",
    "formatted_output = f\"{output_number:,}\"\n",
    "\n",
    "print(formatted_output)"
   ]
  }
 ],
 "metadata": {
  "application/vnd.databricks.v1+notebook": {
   "computePreferences": null,
   "dashboards": [],
   "environmentMetadata": {
    "base_environment": "",
    "client": "1"
   },
   "language": "python",
   "notebookMetadata": {
    "pythonIndentUnit": 4
   },
   "notebookName": "word2number",
   "widgets": {}
  }
 },
 "nbformat": 4,
 "nbformat_minor": 0
}

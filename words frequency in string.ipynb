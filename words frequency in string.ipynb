{
 "cells": [
  {
   "cell_type": "code",
   "execution_count": 0,
   "metadata": {
    "application/vnd.databricks.v1+cell": {
     "cellMetadata": {
      "byteLimit": 2048000,
      "rowLimit": 10000
     },
     "inputWidgets": {},
     "nuid": "59501c55-c3cb-45a3-808b-965780ef30a2",
     "showTitle": false,
     "tableResultSettingsMap": {},
     "title": ""
    }
   },
   "outputs": [
    {
     "output_type": "stream",
     "name": "stdout",
     "output_type": "stream",
     "text": [
      "Counter({'hello': 2, 'world': 2, 'python': 1})\n"
     ]
    }
   ],
   "source": [
    "from collections import Counter\n",
    "\n",
    "def word_frequency(string):\n",
    "    words = string.split()\n",
    "    return Counter(words)\n",
    "\n",
    "# Example\n",
    "print(word_frequency(\"hello world hello python world\"))  \n",
    "# Output: Counter({'hello': 2, 'world': 2, 'python': 1})\n"
   ]
  },
  {
   "cell_type": "code",
   "execution_count": 0,
   "metadata": {
    "application/vnd.databricks.v1+cell": {
     "cellMetadata": {
      "byteLimit": 2048000,
      "rowLimit": 10000
     },
     "inputWidgets": {},
     "nuid": "b4342e2d-d209-4534-a018-4bdcd281d97a",
     "showTitle": false,
     "tableResultSettingsMap": {},
     "title": ""
    }
   },
   "outputs": [
    {
     "output_type": "stream",
     "name": "stdout",
     "output_type": "stream",
     "text": [
      "{'hello': 2, 'world': 2, 'python': 1}\n"
     ]
    }
   ],
   "source": [
    "def word_frequency(string):\n",
    "    words = string.split()\n",
    "    freq = {}\n",
    "    for word in words:\n",
    "        freq[word] = freq.get(word, 0) + 1\n",
    "    return freq\n",
    "\n",
    "# Example\n",
    "print(word_frequency(\"hello world hello python world\"))  \n",
    "# Output: {'hello': 2, 'world': 2, 'python': 1}\n"
   ]
  },
  {
   "cell_type": "code",
   "execution_count": 0,
   "metadata": {
    "application/vnd.databricks.v1+cell": {
     "cellMetadata": {
      "byteLimit": 2048000,
      "rowLimit": 10000
     },
     "inputWidgets": {},
     "nuid": "55d60ad1-90b3-4db3-92dc-35c412e32822",
     "showTitle": false,
     "tableResultSettingsMap": {},
     "title": ""
    }
   },
   "outputs": [
    {
     "output_type": "stream",
     "name": "stdout",
     "output_type": "stream",
     "text": [
      "Counter({'hello': 2, 'world': 2, 'python': 1})\n"
     ]
    }
   ],
   "source": [
    "from collections import Counter\n",
    "\n",
    "def word_frequency(string):\n",
    "    words = string.lower().split()\n",
    "    return Counter(words)\n",
    "\n",
    "# Example\n",
    "print(word_frequency(\"Hello world hello Python world\"))  \n",
    "# Output: Counter({'hello': 2, 'world': 2, 'python': 1})\n"
   ]
  },
  {
   "cell_type": "code",
   "execution_count": 0,
   "metadata": {
    "application/vnd.databricks.v1+cell": {
     "cellMetadata": {
      "byteLimit": 2048000,
      "rowLimit": 10000
     },
     "inputWidgets": {},
     "nuid": "cb75282f-5a94-43cf-87af-8b9538cfd6e8",
     "showTitle": false,
     "tableResultSettingsMap": {},
     "title": ""
    }
   },
   "outputs": [
    {
     "output_type": "stream",
     "name": "stdout",
     "output_type": "stream",
     "text": [
      "Counter({'hello': 2, 'world': 2, 'python': 1})\n"
     ]
    }
   ],
   "source": [
    "import re\n",
    "from collections import Counter\n",
    "\n",
    "def word_frequency(string):\n",
    "    words = re.findall(r'\\b\\w+\\b', string.lower())  # Extract words, ignoring punctuation\n",
    "    return Counter(words)\n",
    "\n",
    "# Example\n",
    "print(word_frequency(\"Hello, world! Hello Python. world...\"))  \n",
    "# Output: Counter({'hello': 2, 'world': 2, 'python': 1})\n"
   ]
  },
  {
   "cell_type": "code",
   "execution_count": 0,
   "metadata": {
    "application/vnd.databricks.v1+cell": {
     "cellMetadata": {
      "byteLimit": 2048000,
      "rowLimit": 10000
     },
     "inputWidgets": {},
     "nuid": "c2180025-817f-4b3c-a32b-5efd5a14fab1",
     "showTitle": false,
     "tableResultSettingsMap": {},
     "title": ""
    }
   },
   "outputs": [
    {
     "output_type": "stream",
     "name": "stdout",
     "output_type": "stream",
     "text": [
      "[('hello', 2), ('world', 2), ('python', 1)]\n"
     ]
    }
   ],
   "source": [
    "from collections import Counter\n",
    "\n",
    "def word_frequency(string):\n",
    "    words = string.split()\n",
    "    freq = Counter(words)\n",
    "    return sorted(freq.items(), key=lambda x: x[1], reverse=True)\n",
    "\n",
    "# Example\n",
    "print(word_frequency(\"hello world hello python world\"))  \n",
    "# Output: [('hello', 2), ('world', 2), ('python', 1)]\n"
   ]
  },
  {
   "cell_type": "code",
   "execution_count": 0,
   "metadata": {
    "application/vnd.databricks.v1+cell": {
     "cellMetadata": {
      "byteLimit": 2048000,
      "rowLimit": 10000
     },
     "inputWidgets": {},
     "nuid": "96f178eb-8a8b-4e3f-8b88-d77b77696b0d",
     "showTitle": false,
     "tableResultSettingsMap": {},
     "title": ""
    }
   },
   "outputs": [
    {
     "output_type": "stream",
     "name": "stdout",
     "output_type": "stream",
     "text": [
      "{'python': 1, 'hello': 2, 'world': 2}\n"
     ]
    }
   ],
   "source": [
    "def word_frequency(string):\n",
    "    words = string.split()\n",
    "    return {word: words.count(word) for word in set(words)}\n",
    "\n",
    "# Example\n",
    "print(word_frequency(\"hello world hello python world\"))  \n",
    "# Output: {'python': 1, 'world': 2, 'hello': 2}\n"
   ]
  },
  {
   "cell_type": "code",
   "execution_count": 0,
   "metadata": {
    "application/vnd.databricks.v1+cell": {
     "cellMetadata": {
      "byteLimit": 2048000,
      "rowLimit": 10000
     },
     "inputWidgets": {},
     "nuid": "181916af-9c37-49eb-8f59-c637d5e43a03",
     "showTitle": false,
     "tableResultSettingsMap": {},
     "title": ""
    }
   },
   "outputs": [
    {
     "output_type": "stream",
     "name": "stdout",
     "output_type": "stream",
     "text": [
      "Counter({'hello': 2, 'world': 2, 'python': 1})\n"
     ]
    }
   ],
   "source": [
    "from collections import Counter\n",
    "\n",
    "def word_frequency(string):\n",
    "    words = string.replace('\\n', ' ').split()\n",
    "    return Counter(words)\n",
    "\n",
    "# Example\n",
    "text = \"\"\"hello world\n",
    "hello python\n",
    "world\"\"\"\n",
    "print(word_frequency(text))  \n",
    "# Output: Counter({'hello': 2, 'world': 2, 'python': 1})\n"
   ]
  },
  {
   "cell_type": "code",
   "execution_count": 0,
   "metadata": {
    "application/vnd.databricks.v1+cell": {
     "cellMetadata": {
      "byteLimit": 2048000,
      "rowLimit": 10000
     },
     "inputWidgets": {},
     "nuid": "9fd0a8ac-3d13-41b4-aad8-d97b0c267c0a",
     "showTitle": false,
     "tableResultSettingsMap": {},
     "title": ""
    }
   },
   "outputs": [
    {
     "output_type": "stream",
     "name": "stdout",
     "output_type": "stream",
     "text": [
      "{'hello': 40.0, 'world': 40.0, 'python': 20.0}\n"
     ]
    }
   ],
   "source": [
    "from collections import Counter\n",
    "\n",
    "def word_frequency_percentage(string):\n",
    "    words = string.split()\n",
    "    total_words = len(words)\n",
    "    freq = Counter(words)\n",
    "    return {word: (count / total_words) * 100 for word, count in freq.items()}\n",
    "\n",
    "# Example\n",
    "print(word_frequency_percentage(\"hello world hello python world\"))  \n",
    "# Output: {'hello': 40.0, 'world': 40.0, 'python': 20.0}\n"
   ]
  },
  {
   "cell_type": "code",
   "execution_count": 0,
   "metadata": {
    "application/vnd.databricks.v1+cell": {
     "cellMetadata": {
      "byteLimit": 2048000,
      "rowLimit": 10000
     },
     "inputWidgets": {},
     "nuid": "7e175f01-a758-4e12-bf8c-d2578571a92a",
     "showTitle": false,
     "tableResultSettingsMap": {},
     "title": ""
    }
   },
   "outputs": [
    {
     "output_type": "stream",
     "name": "stdout",
     "output_type": "stream",
     "text": [
      "{'hello': 2, 'world': 2, 'python': 1}\n"
     ]
    }
   ],
   "source": [
    "def word_frequency(string):\n",
    "    # Step 1: Split words manually\n",
    "    words = []\n",
    "    word = \"\"\n",
    "    for char in string:\n",
    "        if char == \" \" or char == \"\\n\":  # Treat spaces and newlines as word separators\n",
    "            if word:  # If word is not empty, add it to the list\n",
    "                words.append(word)\n",
    "                word = \"\"\n",
    "        else:\n",
    "            word += char\n",
    "    if word:  # Add the last word if it exists\n",
    "        words.append(word)\n",
    "\n",
    "    # Step 2: Count frequency manually\n",
    "    freq = {}\n",
    "    for word in words:\n",
    "        if word in freq:\n",
    "            freq[word] += 1\n",
    "        else:\n",
    "            freq[word] = 1\n",
    "\n",
    "    return freq\n",
    "\n",
    "# Example\n",
    "print(word_frequency(\"hello world hello python world\"))\n",
    "# Output: {'hello': 2, 'world': 2, 'python': 1}\n"
   ]
  },
  {
   "cell_type": "code",
   "execution_count": 0,
   "metadata": {
    "application/vnd.databricks.v1+cell": {
     "cellMetadata": {
      "byteLimit": 2048000,
      "rowLimit": 10000
     },
     "inputWidgets": {},
     "nuid": "8e1b13ac-1d05-4695-97ea-5f4fe21598fb",
     "showTitle": false,
     "tableResultSettingsMap": {},
     "title": ""
    }
   },
   "outputs": [
    {
     "output_type": "stream",
     "name": "stdout",
     "output_type": "stream",
     "text": [
      "{'hello': 2, 'world': 2, 'python': 1}\n"
     ]
    }
   ],
   "source": [
    "def word_frequency(string):\n",
    "    # Step 1: Normalize the string\n",
    "    normalized_string = \"\"\n",
    "    for char in string:\n",
    "        if 'A' <= char <= 'Z':  # Convert uppercase to lowercase\n",
    "            normalized_string += chr(ord(char) + 32)\n",
    "        elif 'a' <= char <= 'z' or char == \" \":  # Keep lowercase letters and spaces\n",
    "            normalized_string += char\n",
    "        # Ignore other characters (punctuation, numbers, etc.)\n",
    "\n",
    "    # Step 2: Split words manually\n",
    "    words = []\n",
    "    word = \"\"\n",
    "    for char in normalized_string:\n",
    "        if char == \" \":\n",
    "            if word:\n",
    "                words.append(word)\n",
    "                word = \"\"\n",
    "        else:\n",
    "            word += char\n",
    "    if word:\n",
    "        words.append(word)\n",
    "\n",
    "    # Step 3: Count frequency manually\n",
    "    freq = {}\n",
    "    for word in words:\n",
    "        if word in freq:\n",
    "            freq[word] += 1\n",
    "        else:\n",
    "            freq[word] = 1\n",
    "\n",
    "    return freq\n",
    "\n",
    "# Example\n",
    "print(word_frequency(\"Hello, World! Hello Python... World\"))\n",
    "# Output: {'hello': 2, 'world': 2, 'python': 1}\n"
   ]
  }
 ],
 "metadata": {
  "application/vnd.databricks.v1+notebook": {
   "dashboards": [],
   "environmentMetadata": null,
   "language": "python",
   "notebookMetadata": {
    "pythonIndentUnit": 4
   },
   "notebookName": "words frequency in string",
   "widgets": {}
  }
 },
 "nbformat": 4,
 "nbformat_minor": 0
}
